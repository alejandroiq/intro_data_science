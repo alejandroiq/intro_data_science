{
 "cells": [
  {
   "cell_type": "markdown",
   "id": "7887cb81-c861-453e-89da-006ef203d2f4",
   "metadata": {},
   "source": [
    "### CSV Part 2\n",
    "no pandas, no csv module"
   ]
  },
  {
   "cell_type": "code",
   "execution_count": 1,
   "id": "2583e554-3998-489e-892e-6ed583305853",
   "metadata": {},
   "outputs": [
    {
     "data": {
      "text/plain": [
       "[[13.1, 13.59, 13.44],\n",
       " [13.93, 13.85, 13.47],\n",
       " [14.12, 14.41, 13.89],\n",
       " [14.42, 13.55, 13.43]]"
      ]
     },
     "execution_count": 1,
     "metadata": {},
     "output_type": "execute_result"
    }
   ],
   "source": [
    "track_times = [\n",
    "    [13.10, 13.59, 13.44],\n",
    "    [13.93, 13.85, 13.47],\n",
    "    [14.12, 14.41, 13.89],\n",
    "    [14.42, 13.55, 13.43]\n",
    "]\n",
    "track_times"
   ]
  },
  {
   "cell_type": "code",
   "execution_count": 4,
   "id": "9d692fff-2785-429a-8a2e-67a6134985e7",
   "metadata": {},
   "outputs": [
    {
     "name": "stdout",
     "output_type": "stream",
     "text": [
      "13.1,13.59,13.44\n",
      "13.93,13.85,13.47\n",
      "14.12,14.41,13.89\n",
      "14.42,13.55,13.43\n"
     ]
    }
   ],
   "source": [
    "track_times_csv = \"\"\n",
    "\n",
    "# Loop over all lists in the overall list. each row is a different athlete\n",
    "# enumerate(index=athlete, time every lap (3laps))\n",
    "# Join together the values in the nested list using a comma as a separator\n",
    "# Append the values to the overall string, I am creating a string with ',' between every element\n",
    "\n",
    "for index, athlete_times in enumerate(track_times):\n",
    "    athlete_times_string = \",\".join([str(time) for time in athlete_times])\n",
    "    track_times_csv += athlete_times_string # Once, it's checked all the row of one Athlete, add them to the string\n",
    "    if index < (len(track_times) - 1):      # Append a newline, unless this is the last row, so insert a line\n",
    "        track_times_csv += \"\\n\"\n",
    "\n",
    "print(track_times_csv) # Without printing, it looks weird"
   ]
  },
  {
   "cell_type": "code",
   "execution_count": 5,
   "id": "2fa86c33-ee13-4d90-9567-8ecb3c0ebee5",
   "metadata": {},
   "outputs": [],
   "source": [
    "# Storage the data in a csv file\n",
    "# I don't need to import csv library !!\n",
    "\n",
    "with open(\"track_times.csv\", \"w\") as f:\n",
    "\n",
    "  f.write(track_times_csv)"
   ]
  },
  {
   "cell_type": "code",
   "execution_count": 6,
   "id": "bdfc56de-6d1c-45f3-83b8-42c7b98130c7",
   "metadata": {},
   "outputs": [
    {
     "data": {
      "text/plain": [
       "'13.1,13.59,13.44\\n13.93,13.85,13.47\\n14.12,14.41,13.89\\n14.42,13.55,13.43'"
      ]
     },
     "execution_count": 6,
     "metadata": {},
     "output_type": "execute_result"
    }
   ],
   "source": [
    "# Open the file\n",
    "\n",
    "with open(\"track_times.csv\") as f:\n",
    "    track_times_csv_string_from_disk = f.read()\n",
    "track_times_csv_string_from_disk"
   ]
  },
  {
   "cell_type": "code",
   "execution_count": 7,
   "id": "7689a589-1665-43f7-baf4-1caa058bdedf",
   "metadata": {},
   "outputs": [
    {
     "data": {
      "text/plain": [
       "[[13.1, 13.59, 13.44],\n",
       " [13.93, 13.85, 13.47],\n",
       " [14.12, 14.41, 13.89],\n",
       " [14.42, 13.55, 13.43]]"
      ]
     },
     "execution_count": 7,
     "metadata": {},
     "output_type": "execute_result"
    }
   ],
   "source": [
    "# Let's do the reverse and get my origina data\n",
    "\n",
    "track_times_from_disk = []\n",
    "\n",
    "with open(\"track_times.csv\") as f:      # f is the file object  \n",
    "    for row in f:                       # iterate over list of lines. each row is a string.\n",
    "        times = [float(time) for time in row.split(\",\")] # loop over f line by line, each row is a string representing a single line and split by ','\n",
    "        track_times_from_disk.append(times)              # append to row (now a list of floats) to outer list\n",
    "                                                         # Python can handle float('13.44\\n') safely\n",
    "   \n",
    "track_times_from_disk"
   ]
  },
  {
   "cell_type": "code",
   "execution_count": 8,
   "id": "36819df9-60fe-4458-9c61-672efc900ada",
   "metadata": {},
   "outputs": [
    {
     "data": {
      "text/plain": [
       "True"
      ]
     },
     "execution_count": 8,
     "metadata": {},
     "output_type": "execute_result"
    }
   ],
   "source": [
    "track_times_from_disk == track_times # True, all good"
   ]
  },
  {
   "cell_type": "markdown",
   "id": "d61f5a81-298e-4300-a58f-4171f2c04b33",
   "metadata": {},
   "source": [
    "Summary \n",
    "\n",
    "| Step             | What it Does                      |\n",
    "| ---------------- | --------------------------------- |\n",
    "| `open()`         | Opens the CSV file for reading    |\n",
    "| `for row in f`   | Reads line-by-line                |\n",
    "| `row.split(\",\")` | Splits string into list           |\n",
    "| `float(time)`    | Converts strings to float         |\n",
    "| `append(times)`  | Adds list of floats to outer list |\n"
   ]
  },
  {
   "cell_type": "markdown",
   "id": "bc28c587-1891-497f-a88c-3c63a0b8c361",
   "metadata": {},
   "source": [
    "More challenges:\n",
    "\n",
    "data type checking and appropriate conversion with different data types in each column\n",
    "\n",
    "processing headers (column names and metadata preceding the actual tabular data)\n",
    "\n",
    "properly handling text data inside a CSV, e.g. if your data contains the text `\"Hello, World!\"` you want to make sure that the `,` is treated as part of the contents of that cell, not treated as a delimiter separating the columns\n",
    "\n",
    "representing your data in different types of data structures (e.g., a list of dicts as opposed to a list of lists)"
   ]
  },
  {
   "cell_type": "code",
   "execution_count": 9,
   "id": "8140e949-8df9-416c-ace2-a7748118099c",
   "metadata": {},
   "outputs": [
    {
     "data": {
      "text/plain": [
       "[[13.1, 13.59, 13.44],\n",
       " [13.93, 13.85, 13.47],\n",
       " [14.12, 14.41, 13.89],\n",
       " [14.42, 13.55, 13.43]]"
      ]
     },
     "execution_count": 9,
     "metadata": {},
     "output_type": "execute_result"
    }
   ],
   "source": [
    "# Example with csv module, same result and les codes\n",
    "\n",
    "import csv\n",
    "\n",
    "with open(\"track_times.csv\") as f:\n",
    "    \n",
    "# Pass the file in to a \"reader\" object and specify that\n",
    "        # values without explicit quotes (i.e. all values in this\n",
    "        # dataset) should be treated as numbers\n",
    "        \n",
    "# return reader object that can act as an iterator\n",
    "# each element of the iterator contains a fully processed line as a list with types already converted\n",
    "     reader = csv.reader(f, quoting=csv.QUOTE_NONNUMERIC) # field is quoted, treat it as a string. Not quoted, convert it to float\n",
    "# Get all of the data from the reader using `list`\n",
    "    \n",
    "# list() explicitly converts iterator to a list\n",
    "     track_times_with_csv_module = list(reader)\n",
    "    \n",
    "track_times_with_csv_module"
   ]
  },
  {
   "cell_type": "markdown",
   "id": "1f7e22bb-d893-48b8-b7f9-6eba599edb50",
   "metadata": {},
   "source": [
    "| Argument           | Description                                                |\n",
    "| ------------------ | ---------------------------------------------------------- |\n",
    "| `file`             | The file object you opened (e.g., `f = open(...)`)         |\n",
    "| `dialect`          | Preset formatting rules like `\"excel\"` (default), `\"unix\"` |\n",
    "| `delimiter`        | Character that separates values (default is `','`)         |\n",
    "| `quotechar`        | Character used to quote fields (default is `'\"'`)          |\n",
    "| `quoting`          | Controls how quotes are interpreted                        |\n",
    "| `skipinitialspace` | If `True`, skips space after delimiter                     |\n",
    "| `strict`           | If `True`, raises error on malformed CSV rows              |\n"
   ]
  },
  {
   "cell_type": "markdown",
   "id": "24dd6691-e880-4b63-962b-6ea30d872e61",
   "metadata": {},
   "source": [
    "# Example with Dictionary"
   ]
  },
  {
   "cell_type": "code",
   "execution_count": 11,
   "id": "b258d218-9be1-4373-847d-e68085c4ea81",
   "metadata": {},
   "outputs": [
    {
     "name": "stdout",
     "output_type": "stream",
     "text": [
      "['Gender', 'Event', 'Location', 'Year', 'Medal', 'Name', 'Nationality', 'Result']\n",
      "['M', '10000M Men', 'Rio', '2016', 'G', 'Mohamed FARAH', 'GBR', '25:05.17']\n",
      "['M', '10000M Men', 'Rio', '2016', 'S', 'Paul Kipngetich TANUI', 'KEN', '27:05.64']\n",
      "['M', '10000M Men', 'Rio', '2016', 'B', 'Tamirat TOLA', 'ETH', '27:06.26']\n",
      "['M', '10000M Men', 'Beijing', '2008', 'G', 'Kenenisa BEKELE', 'ETH', '27:01.17']\n",
      "['M', '10000M Men', 'Beijing', '2008', 'S', 'Sileshi SIHINE', 'ETH', '27:02.77']\n"
     ]
    }
   ],
   "source": [
    "with open(\"olympic_medals.csv\", encoding='utf-8') as f:\n",
    "    reader = csv.reader(f)\n",
    "    # Printing only the header and first 5 rows of data\n",
    "    for _ in range(6):\n",
    "        print(next(reader))"
   ]
  },
  {
   "cell_type": "code",
   "execution_count": 13,
   "id": "0dd7f1b5-0bcd-4aaf-a9c6-5d5cab1c9f1b",
   "metadata": {},
   "outputs": [
    {
     "name": "stdout",
     "output_type": "stream",
     "text": [
      "{'Gender': 'M', 'Event': '10000M Men', 'Location': 'Rio', 'Year': '2016', 'Medal': 'G', 'Name': 'Mohamed FARAH', 'Nationality': 'GBR', 'Result': '25:05.17'}\n",
      "{'Gender': 'M', 'Event': '10000M Men', 'Location': 'Rio', 'Year': '2016', 'Medal': 'S', 'Name': 'Paul Kipngetich TANUI', 'Nationality': 'KEN', 'Result': '27:05.64'}\n",
      "{'Gender': 'M', 'Event': '10000M Men', 'Location': 'Rio', 'Year': '2016', 'Medal': 'B', 'Name': 'Tamirat TOLA', 'Nationality': 'ETH', 'Result': '27:06.26'}\n",
      "{'Gender': 'M', 'Event': '10000M Men', 'Location': 'Beijing', 'Year': '2008', 'Medal': 'G', 'Name': 'Kenenisa BEKELE', 'Nationality': 'ETH', 'Result': '27:01.17'}\n",
      "{'Gender': 'M', 'Event': '10000M Men', 'Location': 'Beijing', 'Year': '2008', 'Medal': 'S', 'Name': 'Sileshi SIHINE', 'Nationality': 'ETH', 'Result': '27:02.77'}\n"
     ]
    }
   ],
   "source": [
    "with open(\"olympic_medals.csv\", encoding='utf-8') as f:\n",
    "\n",
    "    # pass the file object into the DictReader instead of the reader\n",
    "    reader = csv.DictReader(f) # creates an iterable\n",
    "    # now convert to list\n",
    "    olympics_data = list(reader)\n",
    "\n",
    "# Print the first 5 rows of data\n",
    "for index in range(5):\n",
    "    print(olympics_data[index])"
   ]
  },
  {
   "cell_type": "code",
   "execution_count": 14,
   "id": "3ec8269e-3dd8-4f35-b410-42b2c8aea8a4",
   "metadata": {},
   "outputs": [
    {
     "name": "stdout",
     "output_type": "stream",
     "text": [
      "Out of 2394 total medals, this dataset \n",
      "contains information about 799 gold medals\n"
     ]
    }
   ],
   "source": [
    "# Filter by golde medals\n",
    "\n",
    "gold_medals = []\n",
    "\n",
    "for row in olympics_data:\n",
    "    if row[\"Medal\"] == \"G\":\n",
    "        gold_medals.append(row)\n",
    "        \n",
    "print(f\"\"\"Out of {len(olympics_data)} total medals, this dataset \n",
    "contains information about {len(gold_medals)} gold medals\"\"\")"
   ]
  },
  {
   "cell_type": "code",
   "execution_count": 15,
   "id": "a575fb82-8463-4692-aeda-190c0a00436a",
   "metadata": {},
   "outputs": [
    {
     "data": {
      "text/plain": [
       "[{'Event': '1500M Men', 'Name': 'Matthew CENTROWITZ'},\n",
       " {'Event': '400M Hurdles Men', 'Name': 'Kerron CLEMENT'},\n",
       " {'Event': '4X400M Relay Men', 'Name': 'null'},\n",
       " {'Event': 'Decathlon Men', 'Name': 'Ashton EATON'},\n",
       " {'Event': 'Long Jump Men', 'Name': 'Jeff HENDERSON'},\n",
       " {'Event': 'Shot Put Men', 'Name': 'Ryan CROUSER'},\n",
       " {'Event': 'Triple Jump Men', 'Name': 'Christian TAYLOR'},\n",
       " {'Event': '100M Hurdles Women', 'Name': 'Brianna ROLLINS'},\n",
       " {'Event': '400M Hurdles Women', 'Name': 'Dalilah MUHAMMAD'},\n",
       " {'Event': '4X100M Relay Women', 'Name': 'null'},\n",
       " {'Event': '4X400M Relay Women', 'Name': 'null'},\n",
       " {'Event': 'Long Jump Women', 'Name': 'Tianna BARTOLETTA'},\n",
       " {'Event': 'Shot Put Women', 'Name': 'Michelle CARTER'}]"
      ]
     },
     "execution_count": 15,
     "metadata": {},
     "output_type": "execute_result"
    }
   ],
   "source": [
    "# Filter by USA, gold medals in 2016\n",
    "\n",
    "usa_2016_gold_medals = []\n",
    "\n",
    "for row in olympics_data:\n",
    "    if row[\"Medal\"] == \"G\" and row[\"Nationality\"] == \"USA\" and row[\"Year\"] == \"2016\":\n",
    "        usa_2016_gold_medals.append({\"Event\": row[\"Event\"], \"Name\": row[\"Name\"]})\n",
    "usa_2016_gold_medals"
   ]
  },
  {
   "cell_type": "code",
   "execution_count": 17,
   "id": "c4783ab9-df53-4964-80b9-c42dc30e471b",
   "metadata": {},
   "outputs": [],
   "source": [
    "# Let's creat a file with the filter\n",
    "\n",
    "with open(\"usa_2016_gold_medals.csv\", \"w\", newline='') as f: # without newline='', it will create a extra line between rows\n",
    "    writer = csv.DictWriter(f, fieldnames=[\"Event\", \"Name\"])\n",
    "    writer.writeheader()\n",
    "    for row in usa_2016_gold_medals:\n",
    "        writer.writerow(row)"
   ]
  },
  {
   "cell_type": "code",
   "execution_count": null,
   "id": "93ae16f8-bbbb-4a6b-81d2-385f9f47358e",
   "metadata": {},
   "outputs": [],
   "source": []
  }
 ],
 "metadata": {
  "kernelspec": {
   "display_name": "Python (base)",
   "language": "python",
   "name": "base"
  },
  "language_info": {
   "codemirror_mode": {
    "name": "ipython",
    "version": 3
   },
   "file_extension": ".py",
   "mimetype": "text/x-python",
   "name": "python",
   "nbconvert_exporter": "python",
   "pygments_lexer": "ipython3",
   "version": "3.12.9"
  }
 },
 "nbformat": 4,
 "nbformat_minor": 5
}
