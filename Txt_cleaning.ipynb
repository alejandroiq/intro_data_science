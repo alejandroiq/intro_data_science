{
 "cells": [
  {
   "cell_type": "markdown",
   "id": "e016f182-8516-464a-b284-ca6fa8718214",
   "metadata": {},
   "source": [
    "# Cleaning Text"
   ]
  },
  {
   "cell_type": "code",
   "execution_count": 15,
   "id": "d4a3aa8b-45c4-4b69-b575-457c1edbf359",
   "metadata": {},
   "outputs": [
    {
     "data": {
      "text/plain": [
       "'\\t       Mary had a littl0e lamb and th0en I ate it \\n '"
      ]
     },
     "execution_count": 15,
     "metadata": {},
     "output_type": "execute_result"
    }
   ],
   "source": [
    "free_text = \"\\t       Mary had a littl0e lamb and th0en I ate it \\n \"\n",
    "free_text"
   ]
  },
  {
   "cell_type": "code",
   "execution_count": 16,
   "id": "64c69bcc-99cc-48f8-9a96-f67f848ef398",
   "metadata": {},
   "outputs": [
    {
     "data": {
      "text/plain": [
       "'mary had a little lamb and then i ate it'"
      ]
     },
     "execution_count": 16,
     "metadata": {},
     "output_type": "execute_result"
    }
   ],
   "source": [
    "# Eliminate whitespaces including tabs(\\t) and new lines (\\n) with strip()\n",
    "# Replace the '0' with '', just removed\n",
    "# All in lower letter\n",
    "\n",
    "clean_txt = free_text.strip().replace('0','').lower()\n",
    "clean_txt"
   ]
  },
  {
   "cell_type": "markdown",
   "id": "3f025e0c-22a1-4fa3-9737-2d32e061a02d",
   "metadata": {},
   "source": [
    "We have a clean Data but unstructure"
   ]
  },
  {
   "cell_type": "markdown",
   "id": "4e8413fc-4e4e-4e1a-8a5f-d9ab59d98fc3",
   "metadata": {},
   "source": [
    "The .split(sep) method takes a string and splits it on a given separator (sep) into a list of strings.\n",
    "The default separator is ‘\\s’ which corresponds to spaces. Using this method on our string has the desired effect."
   ]
  },
  {
   "cell_type": "code",
   "execution_count": 17,
   "id": "6004060d-4b96-406b-8a13-1bbf09e207af",
   "metadata": {},
   "outputs": [
    {
     "data": {
      "text/plain": [
       "['mary', 'had', 'a', 'little', 'lamb', 'and', 'then', 'i', 'ate', 'it']"
      ]
     },
     "execution_count": 17,
     "metadata": {},
     "output_type": "execute_result"
    }
   ],
   "source": [
    "# Let's create the list\n",
    "\n",
    "token_list = clean_txt.split()\n",
    "token_list"
   ]
  },
  {
   "cell_type": "code",
   "execution_count": 20,
   "id": "20e9e6f6-cc6c-4882-aa5d-36052db8b22d",
   "metadata": {},
   "outputs": [
    {
     "data": {
      "text/plain": [
       "'mary had a little lamb and then i ate it'"
      ]
     },
     "execution_count": 20,
     "metadata": {},
     "output_type": "execute_result"
    }
   ],
   "source": [
    "# let's convert back to text\n",
    "# (e.g. joining [Title, First Name, Last Name, Suffix] in multiple columns to a single Name string)\n",
    "\n",
    "\" \". join(token_list)"
   ]
  },
  {
   "cell_type": "code",
   "execution_count": null,
   "id": "86affbd8-3c8a-49d5-adf6-f284844aceb0",
   "metadata": {},
   "outputs": [],
   "source": []
  }
 ],
 "metadata": {
  "kernelspec": {
   "display_name": "Python (learn-env)",
   "language": "python",
   "name": "learn-env"
  },
  "language_info": {
   "codemirror_mode": {
    "name": "ipython",
    "version": 3
   },
   "file_extension": ".py",
   "mimetype": "text/x-python",
   "name": "python",
   "nbconvert_exporter": "python",
   "pygments_lexer": "ipython3",
   "version": "3.12.4"
  }
 },
 "nbformat": 4,
 "nbformat_minor": 5
}
