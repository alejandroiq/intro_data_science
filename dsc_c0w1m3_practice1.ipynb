{
 "cells": [
  {
   "cell_type": "markdown",
   "metadata": {
    "id": "DseJ85l7AVtS"
   },
   "source": [
    "# Practice for Measure of Central Tendency"
   ]
  },
  {
   "cell_type": "markdown",
   "metadata": {
    "id": "qFwZC1buBHei"
   },
   "source": [
    "1. Load in the relevant dataset using csv DictReader. The path has been provided."
   ]
  },
  {
   "cell_type": "code",
   "execution_count": 1,
   "metadata": {
    "id": "MnxIV17qAVtT"
   },
   "outputs": [],
   "source": [
    "import csv\n",
    "path = 'nhis.csv'\n",
    "\n",
    "with open(path, encoding='utf-8') as f:\n",
    "    reader = csv.DictReader(f)\n",
    "    data = list(reader)"
   ]
  },
  {
   "cell_type": "markdown",
   "metadata": {
    "id": "9BvZJwC-BWOW"
   },
   "source": [
    "2. Extract values for the the variable height and save to a Python list called `height_list`:"
   ]
  },
  {
   "cell_type": "code",
   "execution_count": 2,
   "metadata": {
    "id": "r_XVJY0TBYxS"
   },
   "outputs": [
    {
     "data": {
      "text/plain": [
       "[{'HHX': '16',\n",
       "  'FMX': '1',\n",
       "  'FPX': '2',\n",
       "  'SEX': '1',\n",
       "  'BMI': '33.36',\n",
       "  'SLEEP': '8',\n",
       "  'educ': '16',\n",
       "  'height': '74',\n",
       "  'weight': '260'},\n",
       " {'HHX': '20',\n",
       "  'FMX': '1',\n",
       "  'FPX': '1',\n",
       "  'SEX': '1',\n",
       "  'BMI': '26.54',\n",
       "  'SLEEP': '7',\n",
       "  'educ': '14',\n",
       "  'height': '70',\n",
       "  'weight': '185'},\n",
       " {'HHX': '69',\n",
       "  'FMX': '1',\n",
       "  'FPX': '2',\n",
       "  'SEX': '2',\n",
       "  'BMI': '32.13',\n",
       "  'SLEEP': '7',\n",
       "  'educ': '9',\n",
       "  'height': '61',\n",
       "  'weight': '170'},\n",
       " {'HHX': '87',\n",
       "  'FMX': '1',\n",
       "  'FPX': '1',\n",
       "  'SEX': '1',\n",
       "  'BMI': '26.62',\n",
       "  'SLEEP': '8',\n",
       "  'educ': '14',\n",
       "  'height': '68',\n",
       "  'weight': '175'}]"
      ]
     },
     "execution_count": 2,
     "metadata": {},
     "output_type": "execute_result"
    }
   ],
   "source": [
    "data[:4]"
   ]
  },
  {
   "cell_type": "markdown",
   "metadata": {
    "id": "5E27X9xjBunf"
   },
   "source": [
    "3. Calculate the mean of the height data by explicitly calculating the sum over values and dividing by the number of data points."
   ]
  },
  {
   "cell_type": "code",
   "execution_count": 3,
   "metadata": {
    "id": "s8T9AmkSAVtV"
   },
   "outputs": [
    {
     "data": {
      "text/plain": [
       "'74'"
      ]
     },
     "execution_count": 3,
     "metadata": {},
     "output_type": "execute_result"
    }
   ],
   "source": [
    "data[0]['height']"
   ]
  },
  {
   "cell_type": "code",
   "execution_count": 4,
   "metadata": {},
   "outputs": [
    {
     "data": {
      "text/plain": [
       "4785"
      ]
     },
     "execution_count": 4,
     "metadata": {},
     "output_type": "execute_result"
    }
   ],
   "source": [
    "len(data)"
   ]
  },
  {
   "cell_type": "code",
   "execution_count": 5,
   "metadata": {},
   "outputs": [
    {
     "data": {
      "text/plain": [
       "332932"
      ]
     },
     "execution_count": 5,
     "metadata": {},
     "output_type": "execute_result"
    }
   ],
   "source": [
    "sum = 0\n",
    "for person in data:\n",
    "    sum += int(person['height']) # person includes evry coordinate in the dictionary and ['height'] is the 2nd level\n",
    "\n",
    "sum"
   ]
  },
  {
   "cell_type": "code",
   "execution_count": 6,
   "metadata": {},
   "outputs": [
    {
     "data": {
      "text/plain": [
       "69.57826541274817"
      ]
     },
     "execution_count": 6,
     "metadata": {},
     "output_type": "execute_result"
    }
   ],
   "source": [
    "mean = sum / len(data)\n",
    "mean"
   ]
  },
  {
   "cell_type": "markdown",
   "metadata": {
    "id": "b_waQUotAVtW"
   },
   "source": [
    "4. Calculate mean height using Numpy.  \n"
   ]
  },
  {
   "cell_type": "code",
   "execution_count": 7,
   "metadata": {
    "id": "V-GOo71hCRLZ"
   },
   "outputs": [],
   "source": [
    "import numpy as np"
   ]
  },
  {
   "cell_type": "code",
   "execution_count": 15,
   "metadata": {},
   "outputs": [
    {
     "data": {
      "text/plain": [
       "[74, 70, 61, 68, 66]"
      ]
     },
     "execution_count": 15,
     "metadata": {},
     "output_type": "execute_result"
    }
   ],
   "source": [
    "height_list = [int(row['height']) for row in data]\n",
    "height_list[:5]"
   ]
  },
  {
   "cell_type": "code",
   "execution_count": 9,
   "metadata": {},
   "outputs": [
    {
     "data": {
      "text/plain": [
       "array([74, 70, 61, ..., 64, 64, 62])"
      ]
     },
     "execution_count": 9,
     "metadata": {},
     "output_type": "execute_result"
    }
   ],
   "source": [
    "# Transform the dictionary in array\n",
    "height = np.array(height_list)\n",
    "height"
   ]
  },
  {
   "cell_type": "code",
   "execution_count": 10,
   "metadata": {},
   "outputs": [
    {
     "data": {
      "text/plain": [
       "69.57826541274817"
      ]
     },
     "execution_count": 10,
     "metadata": {},
     "output_type": "execute_result"
    }
   ],
   "source": [
    "np.mean(height_list)"
   ]
  },
  {
   "cell_type": "code",
   "execution_count": 12,
   "metadata": {},
   "outputs": [
    {
     "data": {
      "text/plain": [
       "69.57826541274817"
      ]
     },
     "execution_count": 12,
     "metadata": {},
     "output_type": "execute_result"
    }
   ],
   "source": [
    "height.mean()"
   ]
  },
  {
   "cell_type": "code",
   "execution_count": 16,
   "metadata": {
    "id": "kOZ642M7E3w0"
   },
   "outputs": [],
   "source": [
    "# Run this cell without changes\n",
    "import matplotlib.pyplot as plt\n",
    "%matplotlib inline\n",
    "# ^^This is a 'magic command' built into jupyter notebooks. We use it so that the visualization displays\n",
    "# in the notebook directly, instead of in a separate window."
   ]
  },
  {
   "cell_type": "code",
   "execution_count": 19,
   "metadata": {
    "id": "DZkIP7AXE6dy"
   },
   "outputs": [
    {
     "data": {
      "image/png": "[encoded data removed]",
      "text/plain": [
       "<Figure size 640x480 with 1 Axes>"
      ]
     },
     "metadata": {},
     "output_type": "display_data"
    }
   ],
   "source": [
    "# Run this cell without changes\n",
    "# A histogram should display below\n",
    "plt.hist(height, bins=8);\n",
    "plt.show()"
   ]
  },
  {
   "cell_type": "markdown",
   "metadata": {
    "id": "ImebJEu6BldD"
   },
   "source": [
    "We have plotted a histogram of the data. There are clearly outliers in the data.\n",
    "\n",
    "\n"
   ]
  },
  {
   "cell_type": "markdown",
   "metadata": {
    "id": "Y9gXDOH5E2HZ"
   },
   "source": [
    "5. Is the mean the best measure for central tendency given these outliers? Explain your answer.\n",
    "   "
   ]
  },
  {
   "cell_type": "markdown",
   "metadata": {
    "id": "4HxQZHnsDXSt"
   },
   "source": [
    "Since there is outliers, I would suggest the median"
   ]
  },
  {
   "cell_type": "markdown",
   "metadata": {
    "id": "Y28T6JTjC3E8"
   },
   "source": [
    "6. Given knowledge of the distribution of the data and the presence of outliers, compute the relevant statistic (i.e. the mode or the median) reflecting central tendency. Use either the Counter object or numpy respectively for the statistic you have chosen."
   ]
  },
  {
   "cell_type": "code",
   "execution_count": 30,
   "metadata": {
    "id": "llbYVKyFC5GW"
   },
   "outputs": [
    {
     "data": {
      "text/plain": [
       "[59, 59, 59, 59, 59, 59, 59, 59, 59, 59]"
      ]
     },
     "execution_count": 30,
     "metadata": {},
     "output_type": "execute_result"
    }
   ],
   "source": [
    "sorted_num = sorted(height_list)\n",
    "sorted_num[:10]"
   ]
  },
  {
   "cell_type": "code",
   "execution_count": 22,
   "metadata": {},
   "outputs": [
    {
     "data": {
      "text/plain": [
       "4785"
      ]
     },
     "execution_count": 22,
     "metadata": {},
     "output_type": "execute_result"
    }
   ],
   "source": [
    "len_height = len(height_list)\n",
    "len_height"
   ]
  },
  {
   "cell_type": "code",
   "execution_count": 23,
   "metadata": {},
   "outputs": [
    {
     "data": {
      "text/plain": [
       "67"
      ]
     },
     "execution_count": 23,
     "metadata": {},
     "output_type": "execute_result"
    }
   ],
   "source": [
    "if len_height == 2:\n",
    "    mid1 = sorted_num[len_height // 2 -1]\n",
    "    mid2 = sorted_num[len_height // 2]\n",
    "    median = (mid1 + mid2)/2\n",
    "else:\n",
    "    median = sorted_num[len_height // 2]\n",
    "\n",
    "median"
   ]
  },
  {
   "cell_type": "code",
   "execution_count": 24,
   "metadata": {},
   "outputs": [
    {
     "data": {
      "text/plain": [
       "67.0"
      ]
     },
     "execution_count": 24,
     "metadata": {},
     "output_type": "execute_result"
    }
   ],
   "source": [
    "np.median(height_list)"
   ]
  },
  {
   "cell_type": "markdown",
   "metadata": {
    "id": "hzUPeGtnC78I"
   },
   "source": [
    "7. There are cases where the extreme values are either erroneous data points or are not relevant to the aims of our analysis. Filtering outliers is useful in this case. Filter the heights_list by removing any values greater than 80. This value is set by inspection of the histogram above. Save this to a new list called filtered_heights_list"
   ]
  },
  {
   "cell_type": "code",
   "execution_count": 35,
   "metadata": {
    "id": "egDdBZwmC_zZ"
   },
   "outputs": [
    {
     "data": {
      "text/plain": [
       "4347"
      ]
     },
     "execution_count": 35,
     "metadata": {},
     "output_type": "execute_result"
    }
   ],
   "source": [
    "filter_height_list = []\n",
    "\n",
    "for i in height_list:\n",
    "    if i < 80:\n",
    "        filter_height_list.append(i) # 'i' is already the value, no need to right height_list[i]\n",
    "\n",
    "len(filter_height_list)"
   ]
  },
  {
   "cell_type": "code",
   "execution_count": 39,
   "metadata": {},
   "outputs": [
    {
     "data": {
      "text/plain": [
       "[74, 70, 61, 68, 66, 70, 65, 64, 65, 66, 61, 61]"
      ]
     },
     "execution_count": 39,
     "metadata": {},
     "output_type": "execute_result"
    }
   ],
   "source": [
    "filter_height_list[:12]"
   ]
  },
  {
   "cell_type": "code",
   "execution_count": 37,
   "metadata": {},
   "outputs": [
    {
     "data": {
      "text/plain": [
       "76"
      ]
     },
     "execution_count": 37,
     "metadata": {},
     "output_type": "execute_result"
    }
   ],
   "source": [
    "max(filter_height_list)"
   ]
  },
  {
   "cell_type": "code",
   "execution_count": 43,
   "metadata": {},
   "outputs": [
    {
     "data": {
      "text/plain": [
       "[76, 76, 76, 76, 76]"
      ]
     },
     "execution_count": 43,
     "metadata": {},
     "output_type": "execute_result"
    }
   ],
   "source": [
    "sor = sorted(filter_height_list)\n",
    "sor[-5:] # yes, 76 is the max"
   ]
  },
  {
   "cell_type": "markdown",
   "metadata": {
    "id": "QvBP-0RrDABq"
   },
   "source": [
    "8. Compute the mean on the filtered_heights_list:"
   ]
  },
  {
   "cell_type": "code",
   "execution_count": 44,
   "metadata": {
    "id": "Q91LYIPbDD8s"
   },
   "outputs": [
    {
     "data": {
      "text/plain": [
       "66.85231193926846"
      ]
     },
     "execution_count": 44,
     "metadata": {},
     "output_type": "execute_result"
    }
   ],
   "source": [
    "np.mean(filter_height_list)"
   ]
  },
  {
   "cell_type": "markdown",
   "metadata": {
    "id": "my5isgeADENw"
   },
   "source": [
    "9. How does the mean of the data with outliers removed compare to the mean of the original data? How do both means compare to the median?"
   ]
  },
  {
   "cell_type": "markdown",
   "metadata": {
    "id": "vSCEmlijDVlw"
   },
   "source": [
    "Lower\n",
    "\n",
    "The mean on the filtered list is lower than the original mean. It lies close to the median on the original dataset. Quick inspection of the histogram shows that both the median of the original data and the mean of the data with outliers removed lie at the center of the main distribution of heights."
   ]
  },
  {
   "cell_type": "markdown",
   "metadata": {
    "id": "ipxKJo76DFqk"
   },
   "source": [
    "10. Calculate the mode for height data. Complete the function below so that it returns a list of values – there may be more than one value – which have the highest frequency."
   ]
  },
  {
   "cell_type": "code",
   "execution_count": 50,
   "metadata": {
    "id": "rgy3xQOsDILG"
   },
   "outputs": [],
   "source": [
    "# Throughout this cell, replace None with appropriate code\n",
    "\n",
    "def get_mode(data):\n",
    "\n",
    "    # Create and populate frequency distribution\n",
    "    frequency_dict = {}\n",
    "\n",
    "    for height in data:\n",
    "        # If an element is not in the dict, add it to the dict with value 1\n",
    "        # If an element is already in the dict, +1 the value in place\n",
    "        if height in frequency_dict.keys():\n",
    "            frequency_dict[height] += 1\n",
    "        else:\n",
    "            frequency_dict[height] = 1\n",
    "\n",
    "    # Find the frequency of the mode(s) by finding the largest\n",
    "    # value in frequency_dict\n",
    "    highest_freq = max(frequency_dict.values())\n",
    "\n",
    "    # Create a list for mode values\n",
    "    modes = []\n",
    "\n",
    "    # From the dictionary, add element(s) to the modes list with max frequency\n",
    "    for height, frequency in frequency_dict.items():\n",
    "        if frequency == highest_freq:\n",
    "            modes.append(height)\n",
    "\n",
    "    # Return the mode list\n",
    "    return modes\n"
   ]
  },
  {
   "cell_type": "markdown",
   "metadata": {
    "id": "kk0e51LHDMWq"
   },
   "source": [
    "11. Use the above function to calculate the mode of the original height list."
   ]
  },
  {
   "cell_type": "code",
   "execution_count": 51,
   "metadata": {
    "id": "35pGV9cRDNPp"
   },
   "outputs": [
    {
     "data": {
      "text/plain": [
       "[64]"
      ]
     },
     "execution_count": 51,
     "metadata": {},
     "output_type": "execute_result"
    }
   ],
   "source": [
    "get_mode(height_list)"
   ]
  },
  {
   "cell_type": "markdown",
   "metadata": {
    "id": "ChQS2ZWPDQTM"
   },
   "source": [
    "12.  Use the collections library and Counter object to extract the mode."
   ]
  },
  {
   "cell_type": "code",
   "execution_count": 52,
   "metadata": {
    "id": "a-k3Oj60DSQL"
   },
   "outputs": [],
   "source": [
    "from collections import Counter"
   ]
  },
  {
   "cell_type": "code",
   "execution_count": 53,
   "metadata": {},
   "outputs": [
    {
     "data": {
      "text/plain": [
       "64"
      ]
     },
     "execution_count": 53,
     "metadata": {},
     "output_type": "execute_result"
    }
   ],
   "source": [
    "counts = Counter(height_list)\n",
    "mode = counts.most_common(1)[0][0]\n",
    "mode"
   ]
  },
  {
   "cell_type": "code",
   "execution_count": 54,
   "metadata": {},
   "outputs": [
    {
     "data": {
      "text/plain": [
       "Counter({64: 451,\n",
       "         66: 410,\n",
       "         67: 384,\n",
       "         65: 366,\n",
       "         68: 361,\n",
       "         69: 306,\n",
       "         63: 306,\n",
       "         96: 294,\n",
       "         70: 277,\n",
       "         62: 269,\n",
       "         72: 262,\n",
       "         71: 238,\n",
       "         61: 157,\n",
       "         73: 147,\n",
       "         60: 133,\n",
       "         74: 108,\n",
       "         75: 73,\n",
       "         98: 71,\n",
       "         59: 52,\n",
       "         76: 47,\n",
       "         97: 42,\n",
       "         99: 31})"
      ]
     },
     "execution_count": 54,
     "metadata": {},
     "output_type": "execute_result"
    }
   ],
   "source": [
    "counts"
   ]
  },
  {
   "cell_type": "markdown",
   "metadata": {
    "id": "PcQ_BKoeDSYc"
   },
   "source": [
    "13. Discuss the location of the mode relative to the mean and median. Could knowing the value of the mode independent of the mean and median be useful? Explain."
   ]
  },
  {
   "cell_type": "markdown",
   "metadata": {
    "id": "tQ9fzIusDUwL"
   },
   "source": []
  }
 ],
 "metadata": {
  "colab": {
   "provenance": []
  },
  "kernelspec": {
   "display_name": "Python (base)",
   "language": "python",
   "name": "base"
  },
  "language_info": {
   "codemirror_mode": {
    "name": "ipython",
    "version": 3
   },
   "file_extension": ".py",
   "mimetype": "text/x-python",
   "name": "python",
   "nbconvert_exporter": "python",
   "pygments_lexer": "ipython3",
   "version": "3.12.9"
  },
  "toc": {
   "base_numbering": 1,
   "nav_menu": {},
   "number_sections": true,
   "sideBar": true,
   "skip_h1_title": false,
   "title_cell": "Table of Contents",
   "title_sidebar": "Contents",
   "toc_cell": false,
   "toc_position": {},
   "toc_section_display": true,
   "toc_window_display": false
  }
 },
 "nbformat": 4,
 "nbformat_minor": 4
}
