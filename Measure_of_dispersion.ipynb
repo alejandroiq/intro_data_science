{
 "cells": [
  {
   "cell_type": "code",
   "execution_count": 13,
   "id": "1d756992-d930-4c86-a945-b49b839633f1",
   "metadata": {},
   "outputs": [],
   "source": [
    "virginica_petal_length = [6.0, 5.1, 5.9, 5.6, 5.8, 6.6, 4.5, 6.3, 5.8, 6.1, 5.1, 5.3,\n",
    "                          5.5, 5.0, 5.1, 5.3, 5.5, 6.7, 6.9, 5.0, 5.7, 4.9, 6.7, 4.9, 5.7, 6.0, 4.8, 4.9, 5.6, 5.8, 6.1, 6.4, 5.6, 5.1,\n",
    "                          5.6, 6.1, 5.6, 5.5, 4.8, 5.4, 5.6, 5.1, 5.1, 5.9, 5.7, 5.2, 5.0, 5.2, 5.4, 5.1]"
   ]
  },
  {
   "cell_type": "markdown",
   "id": "27c267af-35d8-4869-bf06-473ba4b37e31",
   "metadata": {},
   "source": [
    "# Variance"
   ]
  },
  {
   "cell_type": "code",
   "execution_count": 7,
   "id": "6c65d821-3b07-41f8-abaf-e679bc5d2c2b",
   "metadata": {},
   "outputs": [],
   "source": [
    "def variance(sample):\n",
    "    sum_sqr = 0\n",
    "    sample_mean = sum(sample)/len(sample)\n",
    "\n",
    "    for length in sample:\n",
    "        sum_sqr += (length - sample_mean)**2\n",
    "    variance = sum_sqr/(len(sample) - 1)\n",
    "\n",
    "    return variance"
   ]
  },
  {
   "cell_type": "code",
   "execution_count": 8,
   "id": "b55ae752-7f08-4fec-917d-e57680eaf035",
   "metadata": {},
   "outputs": [
    {
     "data": {
      "text/plain": [
       "0.30458775510204084"
      ]
     },
     "execution_count": 8,
     "metadata": {},
     "output_type": "execute_result"
    }
   ],
   "source": [
    "variance(virginica_petal_length)"
   ]
  },
  {
   "cell_type": "code",
   "execution_count": 9,
   "id": "bbeb95e0-dfca-4471-ace7-f321ca64316a",
   "metadata": {},
   "outputs": [],
   "source": [
    "import numpy as np"
   ]
  },
  {
   "cell_type": "code",
   "execution_count": 11,
   "id": "d280f5a3-d01a-43cb-9cf0-2c88f1b6f3ac",
   "metadata": {},
   "outputs": [
    {
     "data": {
      "text/plain": [
       "array([6. , 5.1, 5.9, 5.6, 5.8, 6.6, 4.5, 6.3, 5.8, 6.1, 5.1, 5.3, 5.5,\n",
       "       5. , 5.1, 5.3, 5.5, 6.7, 6.9, 5. , 5.7, 4.9, 6.7, 4.9, 5.7, 6. ,\n",
       "       4.8, 4.9, 5.6, 5.8, 6.1, 6.4, 5.6, 5.1, 5.6, 6.1, 5.6, 5.5, 4.8,\n",
       "       5.4, 5.6, 5.1, 5.1, 5.9, 5.7, 5.2, 5. , 5.2, 5.4, 5.1])"
      ]
     },
     "execution_count": 11,
     "metadata": {},
     "output_type": "execute_result"
    }
   ],
   "source": [
    "# Convert list to array\n",
    "\n",
    "virginica_array = np.array(virginica_petal_length)\n",
    "virginica_array"
   ]
  },
  {
   "cell_type": "code",
   "execution_count": 41,
   "id": "197ff48c-8888-4c1b-a417-3affe550957c",
   "metadata": {},
   "outputs": [
    {
     "data": {
      "text/plain": [
       "0.30458775510204084"
      ]
     },
     "execution_count": 41,
     "metadata": {},
     "output_type": "execute_result"
    }
   ],
   "source": [
    "np.var(virginica_array, ddof=1) # The ddof=1 argument is what provides the $N-1$ correction to the variance: population vs sample"
   ]
  },
  {
   "cell_type": "markdown",
   "id": "2b95fd59-53ea-4551-a417-90fd6b5e16de",
   "metadata": {},
   "source": [
    "virginica_array.var(ddof=1)"
   ]
  },
  {
   "cell_type": "markdown",
   "id": "cd9ce695-2c24-4e8d-8af3-eeecc682865c",
   "metadata": {},
   "source": [
    "# Standard Deviation\n",
    "= sqrt(variance)"
   ]
  },
  {
   "cell_type": "code",
   "execution_count": 20,
   "id": "e896886e-4bd2-40f5-b26e-f5146bc8a10b",
   "metadata": {},
   "outputs": [],
   "source": [
    "def std_dev(sample):\n",
    "    stdev = variance(sample)**0.5\n",
    "    return stdev"
   ]
  },
  {
   "cell_type": "code",
   "execution_count": 21,
   "id": "95e11f6d-fd26-4e86-a007-d5710f75af32",
   "metadata": {},
   "outputs": [
    {
     "data": {
      "text/plain": [
       "0.5518946956639834"
      ]
     },
     "execution_count": 21,
     "metadata": {},
     "output_type": "execute_result"
    }
   ],
   "source": [
    "std_dev(virginica_petal_length)"
   ]
  },
  {
   "cell_type": "code",
   "execution_count": 23,
   "id": "e3c4cd91-60a4-4811-848f-79af8ee04503",
   "metadata": {},
   "outputs": [
    {
     "data": {
      "text/plain": [
       "0.5518946956639834"
      ]
     },
     "execution_count": 23,
     "metadata": {},
     "output_type": "execute_result"
    }
   ],
   "source": [
    "virginica_array.std(ddof=1)"
   ]
  },
  {
   "cell_type": "code",
   "execution_count": 25,
   "id": "cd4cbbf5-1ac6-4b74-a3c4-c0be238ba247",
   "metadata": {},
   "outputs": [
    {
     "data": {
      "text/plain": [
       "0.5518946956639834"
      ]
     },
     "execution_count": 25,
     "metadata": {},
     "output_type": "execute_result"
    }
   ],
   "source": [
    "np.std(virginica_array, ddof=1)"
   ]
  },
  {
   "cell_type": "code",
   "execution_count": 44,
   "id": "178fd85a-b42b-4992-8121-a0567e049797",
   "metadata": {},
   "outputs": [
    {
     "data": {
      "text/plain": [
       "0.5518946956639834"
      ]
     },
     "execution_count": 44,
     "metadata": {},
     "output_type": "execute_result"
    }
   ],
   "source": [
    "np.sqrt(np.var(virginica_array, ddof=1)) # squared root of the variance"
   ]
  },
  {
   "cell_type": "markdown",
   "id": "9725cc99-436f-4ff6-b48d-db89ce4822b5",
   "metadata": {},
   "source": [
    "# Mean Absolute Deviation (MAD)"
   ]
  },
  {
   "cell_type": "code",
   "execution_count": 27,
   "id": "25d7002e-1cd2-41a4-8cba-8b211ab08737",
   "metadata": {},
   "outputs": [],
   "source": [
    "def mad(sample):\n",
    "    sum_dev = 0\n",
    "    sample_mean = sum(sample)/len(sample)\n",
    "    for length in sample:\n",
    "        sum_dev += abs(length - sample_mean)\n",
    "    mad = sum_dev / len(sample)\n",
    "    return mad"
   ]
  },
  {
   "cell_type": "code",
   "execution_count": 28,
   "id": "cbb951f1-75be-4978-acc8-9bdf99ac588b",
   "metadata": {},
   "outputs": [
    {
     "data": {
      "text/plain": [
       "0.43999999999999995"
      ]
     },
     "execution_count": 28,
     "metadata": {},
     "output_type": "execute_result"
    }
   ],
   "source": [
    "mad(virginica_petal_length)"
   ]
  },
  {
   "cell_type": "code",
   "execution_count": 30,
   "id": "ad4dd16c-ffbf-4569-8b31-76808995a811",
   "metadata": {},
   "outputs": [
    {
     "data": {
      "text/plain": [
       "0.44"
      ]
     },
     "execution_count": 30,
     "metadata": {},
     "output_type": "execute_result"
    }
   ],
   "source": [
    "# With np, there is not 1 function\n",
    "\n",
    "mad = np.mean(np.abs(virginica_array - np.mean(virginica_array)))\n",
    "mad"
   ]
  },
  {
   "cell_type": "markdown",
   "id": "b984e144-091f-4920-9cf1-00fa553264da",
   "metadata": {},
   "source": [
    "# Computing the Interquartile Range (IQR)"
   ]
  },
  {
   "cell_type": "code",
   "execution_count": 32,
   "id": "e655365c-ea3b-4edd-9cca-72a69bdf323a",
   "metadata": {},
   "outputs": [
    {
     "data": {
      "text/plain": [
       "5.1"
      ]
     },
     "execution_count": 32,
     "metadata": {},
     "output_type": "execute_result"
    }
   ],
   "source": [
    "# Q1 is the 25th value\n",
    "\n",
    "Q1 = np.percentile(virginica_petal_length , 25)\n",
    "Q1"
   ]
  },
  {
   "cell_type": "code",
   "execution_count": 33,
   "id": "f09e85f4-983e-474d-a6da-2292519ce3ff",
   "metadata": {},
   "outputs": [
    {
     "data": {
      "text/plain": [
       "5.875"
      ]
     },
     "execution_count": 33,
     "metadata": {},
     "output_type": "execute_result"
    }
   ],
   "source": [
    "Q3 = np.percentile(virginica_petal_length , 75)\n",
    "Q3"
   ]
  },
  {
   "cell_type": "code",
   "execution_count": 34,
   "id": "eebcafd1-3a8b-46e8-9e60-482078a48741",
   "metadata": {},
   "outputs": [
    {
     "data": {
      "text/plain": [
       "0.7750000000000004"
      ]
     },
     "execution_count": 34,
     "metadata": {},
     "output_type": "execute_result"
    }
   ],
   "source": [
    "iqr = Q3 - Q1\n",
    "iqr"
   ]
  },
  {
   "cell_type": "code",
   "execution_count": 35,
   "id": "5bef9e20-7ae8-494d-acb5-50b8ce393fab",
   "metadata": {},
   "outputs": [
    {
     "data": {
      "text/plain": [
       "0.7750000000000004"
      ]
     },
     "execution_count": 35,
     "metadata": {},
     "output_type": "execute_result"
    }
   ],
   "source": [
    "# Numpy\n",
    "\n",
    "Q1 = np.percentile(virginica_petal_length, 25)\n",
    "Q3 = np.percentile(virginica_petal_length, 75)\n",
    "\n",
    "iqr = Q3 - Q1\n",
    "iqr"
   ]
  },
  {
   "cell_type": "code",
   "execution_count": 36,
   "id": "a8ef6ff4-4958-400f-a9b8-227ce02471a7",
   "metadata": {},
   "outputs": [
    {
     "data": {
      "text/plain": [
       "0.7750000000000004"
      ]
     },
     "execution_count": 36,
     "metadata": {},
     "output_type": "execute_result"
    }
   ],
   "source": [
    "# Spicy\n",
    "\n",
    "from scipy.stats import iqr\n",
    "\n",
    "iqr(virginica_petal_length)"
   ]
  },
  {
   "cell_type": "markdown",
   "id": "5376e6da-b5b2-42c9-a98b-dc43ab88dd9c",
   "metadata": {},
   "source": [
    "# Example 2\n",
    "scipy library"
   ]
  },
  {
   "cell_type": "code",
   "execution_count": 39,
   "id": "d5a808e9-7303-43f1-b727-d0237e5791e9",
   "metadata": {},
   "outputs": [],
   "source": [
    "from scipy.stats import iqr"
   ]
  },
  {
   "cell_type": "code",
   "execution_count": 40,
   "id": "b32449d4-0443-4c4f-9570-475a41bbc17c",
   "metadata": {},
   "outputs": [],
   "source": [
    "weekly_sales = [5333, 4211, 35204, 4409, 5884, 5100, 4964, 3786, 5494, 5344, 5233, 5713,\n",
    "                4481, 4325, 5105, 4167, 5011, 5088, 5732, 4623, 6217, 5492, 4189, 6435,\n",
    "                5270, 5720, 5437, 6572, 4203, 26110, 4105, 3993, 5546, 4751, 4139, 4431,\n",
    "                4271, 5537, 6177, 4439, 5394, 6525, 4512, 3940, 4078, 5430, 5112, 5255, 5379,\n",
    "                5493, 6659, 4826]"
   ]
  },
  {
   "cell_type": "code",
   "execution_count": 46,
   "id": "b743aad0-715b-4ca1-b4d5-674da4e485b1",
   "metadata": {},
   "outputs": [
    {
     "data": {
      "text/plain": [
       "5104.157200459102"
      ]
     },
     "execution_count": 46,
     "metadata": {},
     "output_type": "execute_result"
    }
   ],
   "source": [
    "# Standard Deviation\n",
    "np.array(weekly_sales).std(ddof = 1)"
   ]
  },
  {
   "cell_type": "code",
   "execution_count": 49,
   "id": "9e461f08-3f16-4b98-9cac-912461ca2897",
   "metadata": {},
   "outputs": [
    {
     "data": {
      "text/plain": [
       "1979.2869822485206"
      ]
     },
     "execution_count": 49,
     "metadata": {},
     "output_type": "execute_result"
    }
   ],
   "source": [
    "# Mean Absolute Deviation (MAD)\n",
    "mad2 = np.mean(np.abs(np.array(weekly_sales) - np.mean(np.array(weekly_sales))))\n",
    "mad2"
   ]
  },
  {
   "cell_type": "markdown",
   "id": "bbba26ea-4248-4626-85c5-69c05b016b0b",
   "metadata": {},
   "source": [
    "### Median vs Mean are very different for this example"
   ]
  },
  {
   "cell_type": "code",
   "execution_count": 50,
   "id": "efe49836-1585-4b9d-9c81-479dd8aa2389",
   "metadata": {},
   "outputs": [
    {
     "data": {
      "text/plain": [
       "5172.5"
      ]
     },
     "execution_count": 50,
     "metadata": {},
     "output_type": "execute_result"
    }
   ],
   "source": [
    "np.median(np.array(weekly_sales))"
   ]
  },
  {
   "cell_type": "code",
   "execution_count": 51,
   "id": "65bbca6f-34dc-4bdc-993d-4a2beec2331f",
   "metadata": {},
   "outputs": [
    {
     "data": {
      "text/plain": [
       "6054.692307692308"
      ]
     },
     "execution_count": 51,
     "metadata": {},
     "output_type": "execute_result"
    }
   ],
   "source": [
    "np.mean(np.array(weekly_sales))"
   ]
  },
  {
   "cell_type": "code",
   "execution_count": 52,
   "id": "68e28146-ed90-44ab-94c9-98d9b7d5aa52",
   "metadata": {},
   "outputs": [
    {
     "data": {
      "text/plain": [
       "1113.75"
      ]
     },
     "execution_count": 52,
     "metadata": {},
     "output_type": "execute_result"
    }
   ],
   "source": [
    "iqr(weekly_sales)"
   ]
  },
  {
   "cell_type": "code",
   "execution_count": 53,
   "id": "50a04f25-aee3-4085-8442-5b86ab4b0876",
   "metadata": {},
   "outputs": [],
   "source": [
    "# Eliminating Outliers\n",
    "\n",
    "weekly_sales_no_outliers = [elem for elem in weekly_sales if elem < 20000]"
   ]
  },
  {
   "cell_type": "code",
   "execution_count": 61,
   "id": "d8eec71f-cf6b-492b-b5df-d585b0bacbb5",
   "metadata": {},
   "outputs": [
    {
     "data": {
      "text/plain": [
       "list"
      ]
     },
     "execution_count": 61,
     "metadata": {},
     "output_type": "execute_result"
    }
   ],
   "source": [
    "type(weekly_sales_no_outliers)"
   ]
  },
  {
   "cell_type": "code",
   "execution_count": 56,
   "id": "a2c3c450-e53b-44b6-8b35-b7c474692a9f",
   "metadata": {},
   "outputs": [
    {
     "data": {
      "text/plain": [
       "760.6934001157049"
      ]
     },
     "execution_count": 56,
     "metadata": {},
     "output_type": "execute_result"
    }
   ],
   "source": [
    "np.array(weekly_sales_no_outliers).std(ddof = 1)"
   ]
  },
  {
   "cell_type": "code",
   "execution_count": 57,
   "id": "43bf6bf8-1a07-447d-8941-13a2074923e5",
   "metadata": {},
   "outputs": [
    {
     "data": {
      "text/plain": [
       "627.9679999999998"
      ]
     },
     "execution_count": 57,
     "metadata": {},
     "output_type": "execute_result"
    }
   ],
   "source": [
    "mad2 = np.mean(np.abs(np.array(weekly_sales_no_outliers) - np.mean(np.array(weekly_sales_no_outliers))))\n",
    "mad2"
   ]
  },
  {
   "cell_type": "code",
   "execution_count": 58,
   "id": "2977f880-b46f-48bc-b17a-4ddd38b88926",
   "metadata": {},
   "outputs": [
    {
     "data": {
      "text/plain": [
       "1079.25"
      ]
     },
     "execution_count": 58,
     "metadata": {},
     "output_type": "execute_result"
    }
   ],
   "source": [
    "iqr(weekly_sales_no_outliers)"
   ]
  },
  {
   "cell_type": "code",
   "execution_count": 60,
   "id": "3b8f031a-891b-4419-9cb2-4a72407e3b46",
   "metadata": {},
   "outputs": [
    {
     "data": {
      "text/plain": [
       "list"
      ]
     },
     "execution_count": 60,
     "metadata": {},
     "output_type": "execute_result"
    }
   ],
   "source": [
    "type(weekly_sales_no_outliers)"
   ]
  },
  {
   "cell_type": "markdown",
   "id": "ddc20074-ea6a-4b09-b1d5-17cfa3dd7e2e",
   "metadata": {},
   "source": [
    "# The IQR does not change that much"
   ]
  },
  {
   "cell_type": "code",
   "execution_count": null,
   "id": "730fd4d9-e849-46ce-a7b6-00c4465334f5",
   "metadata": {},
   "outputs": [],
   "source": []
  }
 ],
 "metadata": {
  "kernelspec": {
   "display_name": "Python (base)",
   "language": "python",
   "name": "base"
  },
  "language_info": {
   "codemirror_mode": {
    "name": "ipython",
    "version": 3
   },
   "file_extension": ".py",
   "mimetype": "text/x-python",
   "name": "python",
   "nbconvert_exporter": "python",
   "pygments_lexer": "ipython3",
   "version": "3.12.9"
  }
 },
 "nbformat": 4,
 "nbformat_minor": 5
}
