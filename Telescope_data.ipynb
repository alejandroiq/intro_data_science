{
 "cells": [
  {
   "cell_type": "markdown",
   "id": "579cb329-1449-4db2-ad55-30776ae486ca",
   "metadata": {
    "kernelspec": {
     "display_name": "Python 3",
     "language": "python",
     "name": "python3"
    },
    "language_info": {
     "name": "python",
     "version": "3.10"
    }
   },
   "source": [
    " # Kepler Telescope Exoplanet Catalog "
   ]
  },
  {
   "cell_type": "markdown",
   "id": "36ba6b32-517b-48e8-b0da-c5d1949afb8d",
   "metadata": {},
   "source": [
    "The following excersise has different kind of data"
   ]
  },
  {
   "cell_type": "code",
   "execution_count": 1,
   "id": "7448d80c-0931-40bd-9362-e3c7973b04ed",
   "metadata": {},
   "outputs": [],
   "source": [
    "exo_data = [['Name',\n",
    "  'Distance (LY)',\n",
    "  'Orbital Period (Days)',\n",
    "  'Number of Moons',\n",
    "  'Habitable Zone',\n",
    "  'Potential for Liquid Water'],\n",
    " ['Kepler-186f', '512', '136', '1', 'True', 'High'],\n",
    " ['TRAPPIST-1d', '40', '4.05', '0', 'True', 'High'],\n",
    " ['Gliese 581 g', '20', '37', '0', 'False', 'Possible'],\n",
    " ['LHS 1140b', '40.5', '38.1', '0', 'False', 'Possible'],\n",
    " ['KOI-3140b', '178', '4.5', '0', 'False', 'Low'],\n",
    " ['Kepler-1708b', '5600', '131', '2', 'False', 'None'],\n",
    " ['Kepler-452b', '1400', '385', '0', 'False', 'Likely'],\n",
    " ['Kepler-10b', '186', '0.8', '0', 'False', 'None'],\n",
    " ['HD 132563 b', '218', '259.4', '1', 'False', 'Possible'],\n",
    " ['Kepler-442b', '1120', '112', '0', 'False', 'Possible']]"
   ]
  },
  {
   "cell_type": "code",
   "execution_count": 2,
   "id": "9456120e-a039-44b6-b82c-96ea389f25ae",
   "metadata": {},
   "outputs": [
    {
     "data": {
      "text/plain": [
       "[['Name',\n",
       "  'Distance (LY)',\n",
       "  'Orbital Period (Days)',\n",
       "  'Number of Moons',\n",
       "  'Habitable Zone',\n",
       "  'Potential for Liquid Water'],\n",
       " ['Kepler-186f', '512', '136', '1', 'True', 'High'],\n",
       " ['TRAPPIST-1d', '40', '4.05', '0', 'True', 'High'],\n",
       " ['Gliese 581 g', '20', '37', '0', 'False', 'Possible'],\n",
       " ['LHS 1140b', '40.5', '38.1', '0', 'False', 'Possible'],\n",
       " ['KOI-3140b', '178', '4.5', '0', 'False', 'Low'],\n",
       " ['Kepler-1708b', '5600', '131', '2', 'False', 'None'],\n",
       " ['Kepler-452b', '1400', '385', '0', 'False', 'Likely'],\n",
       " ['Kepler-10b', '186', '0.8', '0', 'False', 'None'],\n",
       " ['HD 132563 b', '218', '259.4', '1', 'False', 'Possible'],\n",
       " ['Kepler-442b', '1120', '112', '0', 'False', 'Possible']]"
      ]
     },
     "execution_count": 2,
     "metadata": {},
     "output_type": "execute_result"
    }
   ],
   "source": [
    "exo_data"
   ]
  },
  {
   "cell_type": "markdown",
   "id": "c1299c0e-18b3-41db-bab9-3d17519e417d",
   "metadata": {},
   "source": [
    "### Recognizing and Converting Count Data to Integer Data Type\n",
    "number of moons Column[3]"
   ]
  },
  {
   "cell_type": "code",
   "execution_count": 3,
   "id": "e5bc45ec-d7be-4cf9-95e6-ec7ed2fa79d1",
   "metadata": {},
   "outputs": [],
   "source": [
    "# loop over words. keep track of index so we can skip the first row\n",
    "# ix is the index\n",
    "# row is the index in the sublist\n",
    "for ix , row in enumerate(exo_data):\n",
    "    if ix > 0: # this skips the header line, otherwise Invalid\n",
    "        row[3] = int(row[3]) # perform int conversion of the string only in row[3]"
   ]
  },
  {
   "cell_type": "code",
   "execution_count": 4,
   "id": "f4aecaef-07c1-4963-9fa8-7260cc418283",
   "metadata": {},
   "outputs": [
    {
     "data": {
      "text/plain": [
       "int"
      ]
     },
     "execution_count": 4,
     "metadata": {},
     "output_type": "execute_result"
    }
   ],
   "source": [
    "# The column [3] was converted to integer\n",
    "type(exo_data[6][3])"
   ]
  },
  {
   "cell_type": "markdown",
   "id": "af63958d-2df8-4ff0-889c-6a6e175e2902",
   "metadata": {},
   "source": [
    "### Recognizing Ordinal Categoricals and Encoding as Integers\n",
    "Potential for liquid water"
   ]
  },
  {
   "cell_type": "code",
   "execution_count": 5,
   "id": "0e6c20af-b90d-41c4-8f7b-04969a80e1ab",
   "metadata": {},
   "outputs": [
    {
     "data": {
      "text/plain": [
       "[(0, 'Spring'), (1, 'Summer'), (2, 'Fall'), (3, 'Winter')]"
      ]
     },
     "execution_count": 5,
     "metadata": {},
     "output_type": "execute_result"
    }
   ],
   "source": [
    "# Enumarate() function example enumerate(iterable, start=0)\n",
    "seasons = ['Spring', 'Summer', 'Fall', 'Winter']\n",
    "list(enumerate(seasons))"
   ]
  },
  {
   "cell_type": "code",
   "execution_count": 6,
   "id": "1e3e91f9-3dfe-4edd-b81b-467d7ef9badf",
   "metadata": {},
   "outputs": [
    {
     "data": {
      "text/plain": [
       "[(1, 'Spring'), (2, 'Summer'), (3, 'Fall'), (4, 'Winter')]"
      ]
     },
     "execution_count": 6,
     "metadata": {},
     "output_type": "execute_result"
    }
   ],
   "source": [
    "list(enumerate(seasons, start=1))"
   ]
  },
  {
   "cell_type": "code",
   "execution_count": 7,
   "id": "f3edc1ea-b58e-4cf8-8b93-92682bc254d3",
   "metadata": {},
   "outputs": [
    {
     "data": {
      "text/plain": [
       "['High',\n",
       " 'High',\n",
       " 'Possible',\n",
       " 'Possible',\n",
       " 'Low',\n",
       " 'None',\n",
       " 'Likely',\n",
       " 'None',\n",
       " 'Possible',\n",
       " 'Possible']"
      ]
     },
     "execution_count": 7,
     "metadata": {},
     "output_type": "execute_result"
    }
   ],
   "source": [
    "lqwater = []\n",
    "for i, elem in enumerate(exo_data):\n",
    "    if i > 0: # In this case, it's not invalid but we are not intersted in the name of the column\n",
    "        lqwater.append(elem[5]) # Potential water is the the column[5]\n",
    "\n",
    "lqwater"
   ]
  },
  {
   "cell_type": "markdown",
   "id": "f265dece-64b1-498b-9d25-b2e74606960a",
   "metadata": {},
   "source": [
    "#### We are Data Science, se we need to imply number based on the nature of the data\n",
    "#### None < Low < Possible < Likely < High --> 0 < 1 < 2 < 3 < 4 "
   ]
  },
  {
   "cell_type": "code",
   "execution_count": 8,
   "id": "6fa9d92f-70a9-437f-990c-d227abce6cb6",
   "metadata": {},
   "outputs": [],
   "source": [
    "# Create a dictionary\n",
    "value_mapper = {'None': 0, 'Low': 1, 'Possible': 2, 'Likely': 3, 'High': 4}\n",
    "for i, row in enumerate(exo_data):\n",
    "    if i > 0:\n",
    "        row[5] = value_mapper[row[5]] # get the integer value corresponding to the ordinal categorical and reassign entry"
   ]
  },
  {
   "cell_type": "code",
   "execution_count": 9,
   "id": "2527832f-5221-4e12-b073-c033b43aff27",
   "metadata": {},
   "outputs": [
    {
     "data": {
      "text/plain": [
       "[['Name',\n",
       "  'Distance (LY)',\n",
       "  'Orbital Period (Days)',\n",
       "  'Number of Moons',\n",
       "  'Habitable Zone',\n",
       "  'Potential for Liquid Water'],\n",
       " ['Kepler-186f', '512', '136', 1, 'True', 4],\n",
       " ['TRAPPIST-1d', '40', '4.05', 0, 'True', 4],\n",
       " ['Gliese 581 g', '20', '37', 0, 'False', 2],\n",
       " ['LHS 1140b', '40.5', '38.1', 0, 'False', 2],\n",
       " ['KOI-3140b', '178', '4.5', 0, 'False', 1],\n",
       " ['Kepler-1708b', '5600', '131', 2, 'False', 0],\n",
       " ['Kepler-452b', '1400', '385', 0, 'False', 3],\n",
       " ['Kepler-10b', '186', '0.8', 0, 'False', 0],\n",
       " ['HD 132563 b', '218', '259.4', 1, 'False', 2],\n",
       " ['Kepler-442b', '1120', '112', 0, 'False', 2]]"
      ]
     },
     "execution_count": 9,
     "metadata": {},
     "output_type": "execute_result"
    }
   ],
   "source": [
    "# Column [5] was replaced with the equivalen numeric value assigned\n",
    "exo_data"
   ]
  },
  {
   "cell_type": "code",
   "execution_count": null,
   "id": "677ba590-daee-45ee-b4c9-bb7c4923c91f",
   "metadata": {},
   "outputs": [],
   "source": []
  },
  {
   "cell_type": "code",
   "execution_count": null,
   "id": "fb5c610c-1058-48e6-9513-f37059ab790c",
   "metadata": {},
   "outputs": [],
   "source": []
  },
  {
   "cell_type": "code",
   "execution_count": null,
   "id": "db8166d3-858d-4348-a6b6-8442190d4efe",
   "metadata": {},
   "outputs": [],
   "source": []
  }
 ],
 "metadata": {
  "kernelspec": {
   "display_name": "Python (base)",
   "language": "python",
   "name": "base"
  },
  "language_info": {
   "codemirror_mode": {
    "name": "ipython",
    "version": 3
   },
   "file_extension": ".py",
   "mimetype": "text/x-python",
   "name": "python",
   "nbconvert_exporter": "python",
   "pygments_lexer": "ipython3",
   "version": "3.12.9"
  }
 },
 "nbformat": 4,
 "nbformat_minor": 5
}
