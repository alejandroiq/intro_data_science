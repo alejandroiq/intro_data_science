{
 "cells": [
  {
   "cell_type": "markdown",
   "id": "d7485d62",
   "metadata": {},
   "source": [
    "# Aviation Accidents Analysis\n",
    "\n",
    "You are part of a consulting firm that is tasked to do an analysis of commercial and passenger jet airline safety. The client (an airline/airplane insurer) is interested in knowing what types of aircraft (makes/models) exhibit low rates of total destruction and low likelihood of fatal or serious passenger injuries in the event of an accident. They are also interested in any general variables/conditions that might be at play. Your analysis will be based off of aviation accident data accumulated from the years 1948-2023. \n",
    "\n",
    "Our client is only interested in airplane makes/models that are professional builds and could potentially still be active. Assume a max lifetime of 40 years for a make/model retirement and make sure to filter your data accordingly (i.e. from 1983 onwards). They would also like separate recommendations for small aircraft vs. larger passenger models. **In addition, make sure that claims that you make are statistically robust and that you have enough samples when making comparisons between groups.**\n",
    "\n",
    "\n",
    "In this summative assessment you will demonstrate your ability to:\n",
    "- **Use Pandas to load, inspect, and clean the dataset appropriately.**\n",
    "- **Transform relevant columns to create measures that address the problem at hand.**\n",
    "- conduct EDA: visualization and statistical measures to systematically understand the structure of the data\n",
    "- recommend a set of airplanes and makes conforming to the client's request and identify at least *two* factors contributing to airplane safety. You must provide supporting evidence (visuals, summary statistics, tables) for each claim you make."
   ]
  },
  {
   "cell_type": "markdown",
   "id": "73e582c5",
   "metadata": {},
   "source": [
    "### Make relevant library imports"
   ]
  },
  {
   "cell_type": "code",
   "execution_count": 1,
   "id": "a72188a8",
   "metadata": {},
   "outputs": [],
   "source": [
    "import pandas as pd\n",
    "import numpy as np\n",
    "import matplotlib.pyplot as plt\n",
    "import seaborn as sns"
   ]
  },
  {
   "cell_type": "markdown",
   "id": "5b1fc321",
   "metadata": {},
   "source": [
    "## Data Loading and Inspection"
   ]
  },
  {
   "cell_type": "markdown",
   "id": "57becc28",
   "metadata": {},
   "source": [
    "### Load in data from the relevant directory and inspect the dataframe.\n",
    "- inspect NaNs, datatypes, and summary statistics"
   ]
  },
  {
   "cell_type": "code",
   "execution_count": 2,
   "id": "85235fa7",
   "metadata": {},
   "outputs": [
    {
     "data": {
      "text/html": [
       "<div>\n",
       "<style scoped>\n",
       "    .dataframe tbody tr th:only-of-type {\n",
       "        vertical-align: middle;\n",
       "    }\n",
       "\n",
       "    .dataframe tbody tr th {\n",
       "        vertical-align: top;\n",
       "    }\n",
       "\n",
       "    .dataframe thead th {\n",
       "        text-align: right;\n",
       "    }\n",
       "</style>\n",
       "<table border=\"1\" class=\"dataframe\">\n",
       "  <thead>\n",
       "    <tr style=\"text-align: right;\">\n",
       "      <th></th>\n",
       "      <th>Event.Id</th>\n",
       "      <th>Investigation.Type</th>\n",
       "      <th>Accident.Number</th>\n",
       "      <th>Event.Date</th>\n",
       "      <th>Location</th>\n",
       "      <th>Country</th>\n",
       "      <th>Latitude</th>\n",
       "      <th>Longitude</th>\n",
       "      <th>Airport.Code</th>\n",
       "      <th>Airport.Name</th>\n",
       "      <th>...</th>\n",
       "      <th>Purpose.of.flight</th>\n",
       "      <th>Air.carrier</th>\n",
       "      <th>Total.Fatal.Injuries</th>\n",
       "      <th>Total.Serious.Injuries</th>\n",
       "      <th>Total.Minor.Injuries</th>\n",
       "      <th>Total.Uninjured</th>\n",
       "      <th>Weather.Condition</th>\n",
       "      <th>Broad.phase.of.flight</th>\n",
       "      <th>Report.Status</th>\n",
       "      <th>Publication.Date</th>\n",
       "    </tr>\n",
       "  </thead>\n",
       "  <tbody>\n",
       "    <tr>\n",
       "      <th>0</th>\n",
       "      <td>20001218X45444</td>\n",
       "      <td>Accident</td>\n",
       "      <td>SEA87LA080</td>\n",
       "      <td>1948-10-24</td>\n",
       "      <td>MOOSE CREEK, ID</td>\n",
       "      <td>United States</td>\n",
       "      <td>NaN</td>\n",
       "      <td>NaN</td>\n",
       "      <td>NaN</td>\n",
       "      <td>NaN</td>\n",
       "      <td>...</td>\n",
       "      <td>Personal</td>\n",
       "      <td>NaN</td>\n",
       "      <td>2.0</td>\n",
       "      <td>0.0</td>\n",
       "      <td>0.0</td>\n",
       "      <td>0.0</td>\n",
       "      <td>UNK</td>\n",
       "      <td>Cruise</td>\n",
       "      <td>Probable Cause</td>\n",
       "      <td>NaN</td>\n",
       "    </tr>\n",
       "    <tr>\n",
       "      <th>1</th>\n",
       "      <td>20001218X45447</td>\n",
       "      <td>Accident</td>\n",
       "      <td>LAX94LA336</td>\n",
       "      <td>1962-07-19</td>\n",
       "      <td>BRIDGEPORT, CA</td>\n",
       "      <td>United States</td>\n",
       "      <td>NaN</td>\n",
       "      <td>NaN</td>\n",
       "      <td>NaN</td>\n",
       "      <td>NaN</td>\n",
       "      <td>...</td>\n",
       "      <td>Personal</td>\n",
       "      <td>NaN</td>\n",
       "      <td>4.0</td>\n",
       "      <td>0.0</td>\n",
       "      <td>0.0</td>\n",
       "      <td>0.0</td>\n",
       "      <td>UNK</td>\n",
       "      <td>Unknown</td>\n",
       "      <td>Probable Cause</td>\n",
       "      <td>19-09-1996</td>\n",
       "    </tr>\n",
       "    <tr>\n",
       "      <th>2</th>\n",
       "      <td>20061025X01555</td>\n",
       "      <td>Accident</td>\n",
       "      <td>NYC07LA005</td>\n",
       "      <td>1974-08-30</td>\n",
       "      <td>Saltville, VA</td>\n",
       "      <td>United States</td>\n",
       "      <td>36.922223</td>\n",
       "      <td>-81.878056</td>\n",
       "      <td>NaN</td>\n",
       "      <td>NaN</td>\n",
       "      <td>...</td>\n",
       "      <td>Personal</td>\n",
       "      <td>NaN</td>\n",
       "      <td>3.0</td>\n",
       "      <td>NaN</td>\n",
       "      <td>NaN</td>\n",
       "      <td>NaN</td>\n",
       "      <td>IMC</td>\n",
       "      <td>Cruise</td>\n",
       "      <td>Probable Cause</td>\n",
       "      <td>26-02-2007</td>\n",
       "    </tr>\n",
       "    <tr>\n",
       "      <th>3</th>\n",
       "      <td>20001218X45448</td>\n",
       "      <td>Accident</td>\n",
       "      <td>LAX96LA321</td>\n",
       "      <td>1977-06-19</td>\n",
       "      <td>EUREKA, CA</td>\n",
       "      <td>United States</td>\n",
       "      <td>NaN</td>\n",
       "      <td>NaN</td>\n",
       "      <td>NaN</td>\n",
       "      <td>NaN</td>\n",
       "      <td>...</td>\n",
       "      <td>Personal</td>\n",
       "      <td>NaN</td>\n",
       "      <td>2.0</td>\n",
       "      <td>0.0</td>\n",
       "      <td>0.0</td>\n",
       "      <td>0.0</td>\n",
       "      <td>IMC</td>\n",
       "      <td>Cruise</td>\n",
       "      <td>Probable Cause</td>\n",
       "      <td>12-09-2000</td>\n",
       "    </tr>\n",
       "    <tr>\n",
       "      <th>4</th>\n",
       "      <td>20041105X01764</td>\n",
       "      <td>Accident</td>\n",
       "      <td>CHI79FA064</td>\n",
       "      <td>1979-08-02</td>\n",
       "      <td>Canton, OH</td>\n",
       "      <td>United States</td>\n",
       "      <td>NaN</td>\n",
       "      <td>NaN</td>\n",
       "      <td>NaN</td>\n",
       "      <td>NaN</td>\n",
       "      <td>...</td>\n",
       "      <td>Personal</td>\n",
       "      <td>NaN</td>\n",
       "      <td>1.0</td>\n",
       "      <td>2.0</td>\n",
       "      <td>NaN</td>\n",
       "      <td>0.0</td>\n",
       "      <td>VMC</td>\n",
       "      <td>Approach</td>\n",
       "      <td>Probable Cause</td>\n",
       "      <td>16-04-1980</td>\n",
       "    </tr>\n",
       "  </tbody>\n",
       "</table>\n",
       "<p>5 rows × 31 columns</p>\n",
       "</div>"
      ],
      "text/plain": [
       "         Event.Id Investigation.Type Accident.Number  Event.Date  \\\n",
       "0  20001218X45444           Accident      SEA87LA080  1948-10-24   \n",
       "1  20001218X45447           Accident      LAX94LA336  1962-07-19   \n",
       "2  20061025X01555           Accident      NYC07LA005  1974-08-30   \n",
       "3  20001218X45448           Accident      LAX96LA321  1977-06-19   \n",
       "4  20041105X01764           Accident      CHI79FA064  1979-08-02   \n",
       "\n",
       "          Location        Country   Latitude   Longitude Airport.Code  \\\n",
       "0  MOOSE CREEK, ID  United States        NaN         NaN          NaN   \n",
       "1   BRIDGEPORT, CA  United States        NaN         NaN          NaN   \n",
       "2    Saltville, VA  United States  36.922223  -81.878056          NaN   \n",
       "3       EUREKA, CA  United States        NaN         NaN          NaN   \n",
       "4       Canton, OH  United States        NaN         NaN          NaN   \n",
       "\n",
       "  Airport.Name  ... Purpose.of.flight Air.carrier Total.Fatal.Injuries  \\\n",
       "0          NaN  ...          Personal         NaN                  2.0   \n",
       "1          NaN  ...          Personal         NaN                  4.0   \n",
       "2          NaN  ...          Personal         NaN                  3.0   \n",
       "3          NaN  ...          Personal         NaN                  2.0   \n",
       "4          NaN  ...          Personal         NaN                  1.0   \n",
       "\n",
       "  Total.Serious.Injuries Total.Minor.Injuries Total.Uninjured  \\\n",
       "0                    0.0                  0.0             0.0   \n",
       "1                    0.0                  0.0             0.0   \n",
       "2                    NaN                  NaN             NaN   \n",
       "3                    0.0                  0.0             0.0   \n",
       "4                    2.0                  NaN             0.0   \n",
       "\n",
       "  Weather.Condition  Broad.phase.of.flight   Report.Status Publication.Date  \n",
       "0               UNK                 Cruise  Probable Cause              NaN  \n",
       "1               UNK                Unknown  Probable Cause       19-09-1996  \n",
       "2               IMC                 Cruise  Probable Cause       26-02-2007  \n",
       "3               IMC                 Cruise  Probable Cause       12-09-2000  \n",
       "4               VMC               Approach  Probable Cause       16-04-1980  \n",
       "\n",
       "[5 rows x 31 columns]"
      ]
     },
     "execution_count": 2,
     "metadata": {},
     "output_type": "execute_result"
    }
   ],
   "source": [
    "df = pd.read_csv('AviationData.csv', encoding='latin1', low_memory=False)\n",
    "df.head()"
   ]
  },
  {
   "cell_type": "code",
   "execution_count": 3,
   "id": "9c06a761-312d-4a43-bfb9-168a5c410381",
   "metadata": {},
   "outputs": [
    {
     "data": {
      "text/html": [
       "<div>\n",
       "<style scoped>\n",
       "    .dataframe tbody tr th:only-of-type {\n",
       "        vertical-align: middle;\n",
       "    }\n",
       "\n",
       "    .dataframe tbody tr th {\n",
       "        vertical-align: top;\n",
       "    }\n",
       "\n",
       "    .dataframe thead th {\n",
       "        text-align: right;\n",
       "    }\n",
       "</style>\n",
       "<table border=\"1\" class=\"dataframe\">\n",
       "  <thead>\n",
       "    <tr style=\"text-align: right;\">\n",
       "      <th></th>\n",
       "      <th>US_State</th>\n",
       "      <th>Abbreviation</th>\n",
       "    </tr>\n",
       "  </thead>\n",
       "  <tbody>\n",
       "    <tr>\n",
       "      <th>0</th>\n",
       "      <td>Alabama</td>\n",
       "      <td>AL</td>\n",
       "    </tr>\n",
       "    <tr>\n",
       "      <th>1</th>\n",
       "      <td>Alaska</td>\n",
       "      <td>AK</td>\n",
       "    </tr>\n",
       "    <tr>\n",
       "      <th>2</th>\n",
       "      <td>Arizona</td>\n",
       "      <td>AZ</td>\n",
       "    </tr>\n",
       "    <tr>\n",
       "      <th>3</th>\n",
       "      <td>Arkansas</td>\n",
       "      <td>AR</td>\n",
       "    </tr>\n",
       "    <tr>\n",
       "      <th>4</th>\n",
       "      <td>California</td>\n",
       "      <td>CA</td>\n",
       "    </tr>\n",
       "  </tbody>\n",
       "</table>\n",
       "</div>"
      ],
      "text/plain": [
       "     US_State Abbreviation\n",
       "0     Alabama           AL\n",
       "1      Alaska           AK\n",
       "2     Arizona           AZ\n",
       "3    Arkansas           AR\n",
       "4  California           CA"
      ]
     },
     "execution_count": 3,
     "metadata": {},
     "output_type": "execute_result"
    }
   ],
   "source": [
    "df_usacode = pd.read_csv('USState_Codes.csv')\n",
    "df_usacode.head()"
   ]
  },
  {
   "cell_type": "code",
   "execution_count": 4,
   "id": "7054c2e6-13e8-4c84-bea3-010c0e37484c",
   "metadata": {},
   "outputs": [
    {
     "data": {
      "text/plain": [
       "(88889, 31)"
      ]
     },
     "execution_count": 4,
     "metadata": {},
     "output_type": "execute_result"
    }
   ],
   "source": [
    "df.shape"
   ]
  },
  {
   "cell_type": "code",
   "execution_count": 5,
   "id": "296260a4-7687-4986-8a3c-4ae1e16990fa",
   "metadata": {},
   "outputs": [
    {
     "name": "stdout",
     "output_type": "stream",
     "text": [
      "<class 'pandas.core.frame.DataFrame'>\n",
      "RangeIndex: 88889 entries, 0 to 88888\n",
      "Data columns (total 31 columns):\n",
      " #   Column                  Non-Null Count  Dtype  \n",
      "---  ------                  --------------  -----  \n",
      " 0   Event.Id                88889 non-null  object \n",
      " 1   Investigation.Type      88889 non-null  object \n",
      " 2   Accident.Number         88889 non-null  object \n",
      " 3   Event.Date              88889 non-null  object \n",
      " 4   Location                88837 non-null  object \n",
      " 5   Country                 88663 non-null  object \n",
      " 6   Latitude                34382 non-null  object \n",
      " 7   Longitude               34373 non-null  object \n",
      " 8   Airport.Code            50132 non-null  object \n",
      " 9   Airport.Name            52704 non-null  object \n",
      " 10  Injury.Severity         87889 non-null  object \n",
      " 11  Aircraft.damage         85695 non-null  object \n",
      " 12  Aircraft.Category       32287 non-null  object \n",
      " 13  Registration.Number     87507 non-null  object \n",
      " 14  Make                    88826 non-null  object \n",
      " 15  Model                   88797 non-null  object \n",
      " 16  Amateur.Built           88787 non-null  object \n",
      " 17  Number.of.Engines       82805 non-null  float64\n",
      " 18  Engine.Type             81793 non-null  object \n",
      " 19  FAR.Description         32023 non-null  object \n",
      " 20  Schedule                12582 non-null  object \n",
      " 21  Purpose.of.flight       82697 non-null  object \n",
      " 22  Air.carrier             16648 non-null  object \n",
      " 23  Total.Fatal.Injuries    77488 non-null  float64\n",
      " 24  Total.Serious.Injuries  76379 non-null  float64\n",
      " 25  Total.Minor.Injuries    76956 non-null  float64\n",
      " 26  Total.Uninjured         82977 non-null  float64\n",
      " 27  Weather.Condition       84397 non-null  object \n",
      " 28  Broad.phase.of.flight   61724 non-null  object \n",
      " 29  Report.Status           82505 non-null  object \n",
      " 30  Publication.Date        75118 non-null  object \n",
      "dtypes: float64(5), object(26)\n",
      "memory usage: 21.0+ MB\n"
     ]
    }
   ],
   "source": [
    "df.info()"
   ]
  },
  {
   "cell_type": "code",
   "execution_count": 6,
   "id": "dee0b8bf-091e-42db-be87-101e5c2ba967",
   "metadata": {},
   "outputs": [
    {
     "data": {
      "text/html": [
       "<div>\n",
       "<style scoped>\n",
       "    .dataframe tbody tr th:only-of-type {\n",
       "        vertical-align: middle;\n",
       "    }\n",
       "\n",
       "    .dataframe tbody tr th {\n",
       "        vertical-align: top;\n",
       "    }\n",
       "\n",
       "    .dataframe thead th {\n",
       "        text-align: right;\n",
       "    }\n",
       "</style>\n",
       "<table border=\"1\" class=\"dataframe\">\n",
       "  <thead>\n",
       "    <tr style=\"text-align: right;\">\n",
       "      <th></th>\n",
       "      <th>Number.of.Engines</th>\n",
       "      <th>Total.Fatal.Injuries</th>\n",
       "      <th>Total.Serious.Injuries</th>\n",
       "      <th>Total.Minor.Injuries</th>\n",
       "      <th>Total.Uninjured</th>\n",
       "    </tr>\n",
       "  </thead>\n",
       "  <tbody>\n",
       "    <tr>\n",
       "      <th>count</th>\n",
       "      <td>82805.000000</td>\n",
       "      <td>77488.000000</td>\n",
       "      <td>76379.000000</td>\n",
       "      <td>76956.000000</td>\n",
       "      <td>82977.000000</td>\n",
       "    </tr>\n",
       "    <tr>\n",
       "      <th>mean</th>\n",
       "      <td>1.146585</td>\n",
       "      <td>0.647855</td>\n",
       "      <td>0.279881</td>\n",
       "      <td>0.357061</td>\n",
       "      <td>5.325440</td>\n",
       "    </tr>\n",
       "    <tr>\n",
       "      <th>std</th>\n",
       "      <td>0.446510</td>\n",
       "      <td>5.485960</td>\n",
       "      <td>1.544084</td>\n",
       "      <td>2.235625</td>\n",
       "      <td>27.913634</td>\n",
       "    </tr>\n",
       "    <tr>\n",
       "      <th>min</th>\n",
       "      <td>0.000000</td>\n",
       "      <td>0.000000</td>\n",
       "      <td>0.000000</td>\n",
       "      <td>0.000000</td>\n",
       "      <td>0.000000</td>\n",
       "    </tr>\n",
       "    <tr>\n",
       "      <th>25%</th>\n",
       "      <td>1.000000</td>\n",
       "      <td>0.000000</td>\n",
       "      <td>0.000000</td>\n",
       "      <td>0.000000</td>\n",
       "      <td>0.000000</td>\n",
       "    </tr>\n",
       "    <tr>\n",
       "      <th>50%</th>\n",
       "      <td>1.000000</td>\n",
       "      <td>0.000000</td>\n",
       "      <td>0.000000</td>\n",
       "      <td>0.000000</td>\n",
       "      <td>1.000000</td>\n",
       "    </tr>\n",
       "    <tr>\n",
       "      <th>75%</th>\n",
       "      <td>1.000000</td>\n",
       "      <td>0.000000</td>\n",
       "      <td>0.000000</td>\n",
       "      <td>0.000000</td>\n",
       "      <td>2.000000</td>\n",
       "    </tr>\n",
       "    <tr>\n",
       "      <th>max</th>\n",
       "      <td>8.000000</td>\n",
       "      <td>349.000000</td>\n",
       "      <td>161.000000</td>\n",
       "      <td>380.000000</td>\n",
       "      <td>699.000000</td>\n",
       "    </tr>\n",
       "  </tbody>\n",
       "</table>\n",
       "</div>"
      ],
      "text/plain": [
       "       Number.of.Engines  Total.Fatal.Injuries  Total.Serious.Injuries  \\\n",
       "count       82805.000000          77488.000000            76379.000000   \n",
       "mean            1.146585              0.647855                0.279881   \n",
       "std             0.446510              5.485960                1.544084   \n",
       "min             0.000000              0.000000                0.000000   \n",
       "25%             1.000000              0.000000                0.000000   \n",
       "50%             1.000000              0.000000                0.000000   \n",
       "75%             1.000000              0.000000                0.000000   \n",
       "max             8.000000            349.000000              161.000000   \n",
       "\n",
       "       Total.Minor.Injuries  Total.Uninjured  \n",
       "count          76956.000000     82977.000000  \n",
       "mean               0.357061         5.325440  \n",
       "std                2.235625        27.913634  \n",
       "min                0.000000         0.000000  \n",
       "25%                0.000000         0.000000  \n",
       "50%                0.000000         1.000000  \n",
       "75%                0.000000         2.000000  \n",
       "max              380.000000       699.000000  "
      ]
     },
     "execution_count": 6,
     "metadata": {},
     "output_type": "execute_result"
    }
   ],
   "source": [
    "df.describe()"
   ]
  },
  {
   "cell_type": "markdown",
   "id": "c1acecaa-1011-4259-9e86-be35ce01be72",
   "metadata": {},
   "source": [
    "## Data Cleaning"
   ]
  },
  {
   "cell_type": "markdown",
   "id": "c23efd78",
   "metadata": {},
   "source": [
    "### Filtering aircrafts and events"
   ]
  },
  {
   "cell_type": "markdown",
   "id": "9c399343",
   "metadata": {},
   "source": [
    "We want to filter the dataset to include aircraft that the client is interested in an analysis of:\n",
    "- inspect relevant columns\n",
    "- figure out any reasonable imputations\n",
    "- filter the dataset"
   ]
  },
  {
   "cell_type": "markdown",
   "id": "f5fcc020-8773-4467-adb5-456268be348c",
   "metadata": {},
   "source": [
    "### Cleaning Key Measurables\n",
    "\n",
    "Injuries and robustness to destruction are a key interest point for the client. Clean and impute relevant columns and then create derived fields that best quantifies what the client wishes to track. **Use commenting or markdown to explain any cleaning assumptions as well as any derived columns you create.**"
   ]
  },
  {
   "cell_type": "markdown",
   "id": "24b78ad3-6c77-4089-94b1-d9f5cb6abb06",
   "metadata": {},
   "source": [
    "## Amateur Built"
   ]
  },
  {
   "cell_type": "code",
   "execution_count": 7,
   "id": "5e8b6872-d7f6-4fe8-9db2-94090b36b11e",
   "metadata": {},
   "outputs": [
    {
     "data": {
      "text/plain": [
       "['No', 'Yes']"
      ]
     },
     "execution_count": 7,
     "metadata": {},
     "output_type": "execute_result"
    }
   ],
   "source": [
    "sorted(df['Amateur.Built'].dropna().unique())"
   ]
  },
  {
   "cell_type": "code",
   "execution_count": 8,
   "id": "62162474-f98d-4665-91ce-68b4346fdffa",
   "metadata": {},
   "outputs": [
    {
     "data": {
      "text/plain": [
       "Amateur.Built\n",
       "No     80312\n",
       "Yes     8475\n",
       "Name: count, dtype: int64"
      ]
     },
     "execution_count": 8,
     "metadata": {},
     "output_type": "execute_result"
    }
   ],
   "source": [
    "df['Amateur.Built'].value_counts()"
   ]
  },
  {
   "cell_type": "code",
   "execution_count": 9,
   "id": "b0d8ac07-1cc8-4f6b-af16-f452857e0ba0",
   "metadata": {},
   "outputs": [
    {
     "data": {
      "text/plain": [
       "102"
      ]
     },
     "execution_count": 9,
     "metadata": {},
     "output_type": "execute_result"
    }
   ],
   "source": [
    "df['Amateur.Built'].isna().sum()"
   ]
  },
  {
   "cell_type": "code",
   "execution_count": 10,
   "id": "7c876b3a-332b-4ad2-8b20-d1b0aa1ffe3f",
   "metadata": {},
   "outputs": [
    {
     "data": {
      "text/plain": [
       "0"
      ]
     },
     "execution_count": 10,
     "metadata": {},
     "output_type": "execute_result"
    }
   ],
   "source": [
    "# Blank removed and confirmed\n",
    "df = df.dropna(subset=['Amateur.Built'])\n",
    "df['Amateur.Built'].isna().sum()"
   ]
  },
  {
   "cell_type": "code",
   "execution_count": 11,
   "id": "5d37fcf0-eeb5-4b42-b538-92079b4f0af3",
   "metadata": {},
   "outputs": [
    {
     "data": {
      "text/plain": [
       "Amateur.Built\n",
       "No     90.454684\n",
       "Yes     9.545316\n",
       "Name: proportion, dtype: float64"
      ]
     },
     "execution_count": 11,
     "metadata": {},
     "output_type": "execute_result"
    }
   ],
   "source": [
    "# Less than 10% are amateur, eliminate them\n",
    "df['Amateur.Built'].value_counts(normalize=True)*100"
   ]
  },
  {
   "cell_type": "code",
   "execution_count": 12,
   "id": "d0e3af0b-70d9-4d99-b393-48f9d0ea55e6",
   "metadata": {},
   "outputs": [
    {
     "data": {
      "text/plain": [
       "Amateur.Built\n",
       "No    80312\n",
       "Name: count, dtype: int64"
      ]
     },
     "execution_count": 12,
     "metadata": {},
     "output_type": "execute_result"
    }
   ],
   "source": [
    "df = df[df['Amateur.Built'] != 'Yes']\n",
    "df['Amateur.Built'].value_counts()"
   ]
  },
  {
   "cell_type": "markdown",
   "id": "9c3a2a80-5d81-444c-9d2c-dd40c6b8b938",
   "metadata": {
    "jp-MarkdownHeadingCollapsed": true
   },
   "source": [
    "## EVENT DATE"
   ]
  },
  {
   "cell_type": "code",
   "execution_count": 13,
   "id": "5fb51eba-f1f7-4844-bbb3-52ecde313df4",
   "metadata": {},
   "outputs": [],
   "source": [
    "df['Event.Date']=pd.to_datetime(df['Event.Date'], errors='coerce')"
   ]
  },
  {
   "cell_type": "code",
   "execution_count": 14,
   "id": "0074569c-8b7d-4c90-a04e-4007983d0d84",
   "metadata": {},
   "outputs": [
    {
     "data": {
      "text/plain": [
       "0"
      ]
     },
     "execution_count": 14,
     "metadata": {},
     "output_type": "execute_result"
    }
   ],
   "source": [
    "df['Event.Date'].isna().sum()"
   ]
  },
  {
   "cell_type": "code",
   "execution_count": 15,
   "id": "fbc4ee25-4656-44b4-b836-90cf523c98e0",
   "metadata": {},
   "outputs": [
    {
     "data": {
      "text/plain": [
       "dtype('<M8[ns]')"
      ]
     },
     "execution_count": 15,
     "metadata": {},
     "output_type": "execute_result"
    }
   ],
   "source": [
    "df['Event.Date'].dtype"
   ]
  },
  {
   "cell_type": "code",
   "execution_count": 16,
   "id": "b94e3b37-7907-4e17-98f7-3bff0c2640fc",
   "metadata": {},
   "outputs": [
    {
     "data": {
      "text/plain": [
       "array([1948, 1962, 1974, 1977, 1979, 1981, 1982, 1983, 1984, 1985, 1986,\n",
       "       1987, 1988, 1989, 1990, 1991, 1992, 1993, 1994, 1995, 1996, 1997,\n",
       "       1998, 1999, 2000, 2001, 2002, 2003, 2004, 2005, 2006, 2007, 2008,\n",
       "       2009, 2010, 2011, 2012, 2013, 2014, 2015, 2016, 2017, 2018, 2019,\n",
       "       2020, 2021, 2022])"
      ]
     },
     "execution_count": 16,
     "metadata": {},
     "output_type": "execute_result"
    }
   ],
   "source": [
    "df['Event.Date'].dt.year.dropna().unique()"
   ]
  },
  {
   "cell_type": "code",
   "execution_count": 17,
   "id": "bec75a2c-e43d-443b-a47b-dcb5ab15682c",
   "metadata": {},
   "outputs": [
    {
     "data": {
      "text/plain": [
       "array([1948, 1962, 1974, 1977, 1979, 1981, 1982, 1983, 1984, 1985, 1986,\n",
       "       1987, 1988, 1989, 1990, 1991, 1992, 1993, 1994, 1995, 1996, 1997,\n",
       "       1998, 1999, 2000, 2001, 2002, 2003, 2004, 2005, 2006, 2007, 2008,\n",
       "       2009, 2010, 2011, 2012, 2013, 2014, 2015, 2016, 2017, 2018, 2019,\n",
       "       2020, 2021, 2022])"
      ]
     },
     "execution_count": 17,
     "metadata": {},
     "output_type": "execute_result"
    }
   ],
   "source": [
    "df['Year'] = df['Event.Date'].dt.year\n",
    "df['Year'].dropna().unique()"
   ]
  },
  {
   "cell_type": "code",
   "execution_count": 18,
   "id": "e93eab88-819a-4779-bc47-916d2f4bcb38",
   "metadata": {},
   "outputs": [
    {
     "data": {
      "text/plain": [
       "array([1983, 1984, 1985, 1986, 1987, 1988, 1989, 1990, 1991, 1992, 1993,\n",
       "       1994, 1995, 1996, 1997, 1998, 1999, 2000, 2001, 2002, 2003, 2004,\n",
       "       2005, 2006, 2007, 2008, 2009, 2010, 2011, 2012, 2013, 2014, 2015,\n",
       "       2016, 2017, 2018, 2019, 2020, 2021, 2022])"
      ]
     },
     "execution_count": 18,
     "metadata": {},
     "output_type": "execute_result"
    }
   ],
   "source": [
    "# Eliminate year < 1983\n",
    "df = df[df['Year'] >= 1983]\n",
    "df['Event.Date'].dt.year.dropna().unique()"
   ]
  },
  {
   "cell_type": "code",
   "execution_count": 19,
   "id": "24411516-bf0c-4f5d-bc9f-0464ce095da8",
   "metadata": {},
   "outputs": [
    {
     "name": "stdout",
     "output_type": "stream",
     "text": [
      "<class 'pandas.core.frame.DataFrame'>\n",
      "Index: 76960 entries, 3600 to 88888\n",
      "Data columns (total 32 columns):\n",
      " #   Column                  Non-Null Count  Dtype         \n",
      "---  ------                  --------------  -----         \n",
      " 0   Event.Id                76960 non-null  object        \n",
      " 1   Investigation.Type      76960 non-null  object        \n",
      " 2   Accident.Number         76960 non-null  object        \n",
      " 3   Event.Date              76960 non-null  datetime64[ns]\n",
      " 4   Location                76913 non-null  object        \n",
      " 5   Country                 76750 non-null  object        \n",
      " 6   Latitude                30167 non-null  object        \n",
      " 7   Longitude               30161 non-null  object        \n",
      " 8   Airport.Code            43375 non-null  object        \n",
      " 9   Airport.Name            45285 non-null  object        \n",
      " 10  Injury.Severity         75961 non-null  object        \n",
      " 11  Aircraft.damage         73868 non-null  object        \n",
      " 12  Aircraft.Category       25405 non-null  object        \n",
      " 13  Registration.Number     75733 non-null  object        \n",
      " 14  Make                    76914 non-null  object        \n",
      " 15  Model                   76893 non-null  object        \n",
      " 16  Amateur.Built           76960 non-null  object        \n",
      " 17  Number.of.Engines       71255 non-null  float64       \n",
      " 18  Engine.Type             70279 non-null  object        \n",
      " 19  FAR.Description         25160 non-null  object        \n",
      " 20  Schedule                11743 non-null  object        \n",
      " 21  Purpose.of.flight       70895 non-null  object        \n",
      " 22  Air.carrier             15421 non-null  object        \n",
      " 23  Total.Fatal.Injuries    66828 non-null  float64       \n",
      " 24  Total.Serious.Injuries  65904 non-null  float64       \n",
      " 25  Total.Minor.Injuries    66430 non-null  float64       \n",
      " 26  Total.Uninjured         72081 non-null  float64       \n",
      " 27  Weather.Condition       72609 non-null  object        \n",
      " 28  Broad.phase.of.flight   52796 non-null  object        \n",
      " 29  Report.Status           70924 non-null  object        \n",
      " 30  Publication.Date        64118 non-null  object        \n",
      " 31  Year                    76960 non-null  int32         \n",
      "dtypes: datetime64[ns](1), float64(5), int32(1), object(25)\n",
      "memory usage: 19.1+ MB\n"
     ]
    }
   ],
   "source": [
    "df.info()"
   ]
  },
  {
   "cell_type": "markdown",
   "id": "f0c4284c-b13e-4939-8c4b-0ede1794e6c6",
   "metadata": {},
   "source": [
    "## MAKE AND MODEL"
   ]
  },
  {
   "cell_type": "code",
   "execution_count": 20,
   "id": "d5e5f797-618d-495e-a703-653d519ee705",
   "metadata": {},
   "outputs": [
    {
     "data": {
      "text/plain": [
       "46"
      ]
     },
     "execution_count": 20,
     "metadata": {},
     "output_type": "execute_result"
    }
   ],
   "source": [
    "df['Make'].isna().sum()"
   ]
  },
  {
   "cell_type": "code",
   "execution_count": 21,
   "id": "5464b523-0366-4d5f-ae93-bb360ddc3944",
   "metadata": {},
   "outputs": [
    {
     "data": {
      "text/plain": [
       "67"
      ]
     },
     "execution_count": 21,
     "metadata": {},
     "output_type": "execute_result"
    }
   ],
   "source": [
    "df['Model'].isna().sum()"
   ]
  },
  {
   "cell_type": "code",
   "execution_count": 22,
   "id": "6c8df860-fca3-4561-ae3f-4348098c3fca",
   "metadata": {},
   "outputs": [
    {
     "data": {
      "text/plain": [
       "0"
      ]
     },
     "execution_count": 22,
     "metadata": {},
     "output_type": "execute_result"
    }
   ],
   "source": [
    "# Eliminate blanks in Make and Models\n",
    "df = df.dropna(subset=['Make'])\n",
    "df = df.dropna(subset=['Model'])\n",
    "df['Make'].isna().sum()"
   ]
  },
  {
   "cell_type": "code",
   "execution_count": 23,
   "id": "84bb77b6-93d0-434d-b3e4-1aff0aaa318c",
   "metadata": {},
   "outputs": [
    {
     "data": {
      "text/plain": [
       "0"
      ]
     },
     "execution_count": 23,
     "metadata": {},
     "output_type": "execute_result"
    }
   ],
   "source": [
    "df['Model'].isna().sum()"
   ]
  },
  {
   "cell_type": "code",
   "execution_count": 24,
   "id": "91a25782-d4dc-40a3-97f9-44d24fccdbad",
   "metadata": {},
   "outputs": [
    {
     "data": {
      "text/plain": [
       "Make\n",
       "Cessna                           20817\n",
       "Piper                            11260\n",
       "CESSNA                            4919\n",
       "Beech                             4052\n",
       "PIPER                             2838\n",
       "                                 ...  \n",
       "AIR TRACTOR INC.                     1\n",
       "STORCH AVIATION AUSTRALIA PTY        1\n",
       "Rotorcraft Development Corp          1\n",
       "Polaris Motors                       1\n",
       "ROYSE RALPH L                        1\n",
       "Name: count, Length: 2309, dtype: int64"
      ]
     },
     "execution_count": 24,
     "metadata": {},
     "output_type": "execute_result"
    }
   ],
   "source": [
    "df['Make'].value_counts()"
   ]
  },
  {
   "cell_type": "code",
   "execution_count": 25,
   "id": "f267f7a5-329a-44c1-b218-5a9aceb40f9f",
   "metadata": {},
   "outputs": [
    {
     "data": {
      "text/plain": [
       "Model\n",
       "152          2230\n",
       "172          1652\n",
       "172N         1094\n",
       "PA-28-140     863\n",
       "172M          759\n",
       "             ... \n",
       "F-21            1\n",
       "S-T1            1\n",
       "175-235         1\n",
       "DHC-7           1\n",
       "GLASAIR         1\n",
       "Name: count, Length: 8587, dtype: int64"
      ]
     },
     "execution_count": 25,
     "metadata": {},
     "output_type": "execute_result"
    }
   ],
   "source": [
    "df['Model'].value_counts()"
   ]
  },
  {
   "cell_type": "markdown",
   "id": "8f7dd88b-f9df-4c34-a703-9e13e4255653",
   "metadata": {},
   "source": [
    "## Fatal and Serious Injuries"
   ]
  },
  {
   "cell_type": "code",
   "execution_count": 26,
   "id": "36889a12-b3b3-4e51-8818-c520597d9d66",
   "metadata": {},
   "outputs": [
    {
     "data": {
      "text/plain": [
       "Series([], Name: count, dtype: int64)"
      ]
     },
     "execution_count": 26,
     "metadata": {},
     "output_type": "execute_result"
    }
   ],
   "source": [
    "df[df['Total.Fatal.Injuries'] < 0]['Total.Fatal.Injuries'].value_counts()"
   ]
  },
  {
   "cell_type": "code",
   "execution_count": 27,
   "id": "20ca1590-1afe-4b9c-94ca-b2cf6fdec6fa",
   "metadata": {},
   "outputs": [
    {
     "data": {
      "text/plain": [
       "Series([], Name: count, dtype: int64)"
      ]
     },
     "execution_count": 27,
     "metadata": {},
     "output_type": "execute_result"
    }
   ],
   "source": [
    "df[df['Total.Serious.Injuries'] < 0]['Total.Serious.Injuries'].value_counts()"
   ]
  },
  {
   "cell_type": "markdown",
   "id": "df6cbf59-9a42-4247-946f-de894d34e0ae",
   "metadata": {
    "jp-MarkdownHeadingCollapsed": true
   },
   "source": [
    "## Accidents vs Incidents: Investigation.Type"
   ]
  },
  {
   "cell_type": "code",
   "execution_count": 28,
   "id": "92c65e9c-166f-4a12-9b69-81e1116e601e",
   "metadata": {},
   "outputs": [
    {
     "data": {
      "text/plain": [
       "Investigation.Type\n",
       "Accident    73247\n",
       "Incident     3641\n",
       "Name: count, dtype: int64"
      ]
     },
     "execution_count": 28,
     "metadata": {},
     "output_type": "execute_result"
    }
   ],
   "source": [
    "df['Investigation.Type'].value_counts()"
   ]
  },
  {
   "cell_type": "code",
   "execution_count": 29,
   "id": "5cf43ffd-92de-4921-b165-7e6e73c9df02",
   "metadata": {},
   "outputs": [
    {
     "data": {
      "text/plain": [
       "0"
      ]
     },
     "execution_count": 29,
     "metadata": {},
     "output_type": "execute_result"
    }
   ],
   "source": [
    "# There is not blakns\n",
    "df['Investigation.Type'].isna().sum()"
   ]
  },
  {
   "cell_type": "code",
   "execution_count": 30,
   "id": "d6435985-06d3-4c76-a24d-1f719d948b54",
   "metadata": {},
   "outputs": [
    {
     "data": {
      "text/plain": [
       "Investigation.Type\n",
       "Accident    73247\n",
       "Name: count, dtype: int64"
      ]
     },
     "execution_count": 30,
     "metadata": {},
     "output_type": "execute_result"
    }
   ],
   "source": [
    "# the client is only interested in Accidents\n",
    "df = df[df['Investigation.Type'] == 'Accident']\n",
    "df['Investigation.Type'].value_counts()"
   ]
  },
  {
   "cell_type": "code",
   "execution_count": 31,
   "id": "e4361a0f-46a5-42c4-b0b9-aa9d14de874b",
   "metadata": {},
   "outputs": [
    {
     "name": "stdout",
     "output_type": "stream",
     "text": [
      "<class 'pandas.core.frame.DataFrame'>\n",
      "Index: 73247 entries, 3600 to 88888\n",
      "Data columns (total 32 columns):\n",
      " #   Column                  Non-Null Count  Dtype         \n",
      "---  ------                  --------------  -----         \n",
      " 0   Event.Id                73247 non-null  object        \n",
      " 1   Investigation.Type      73247 non-null  object        \n",
      " 2   Accident.Number         73247 non-null  object        \n",
      " 3   Event.Date              73247 non-null  datetime64[ns]\n",
      " 4   Location                73209 non-null  object        \n",
      " 5   Country                 73057 non-null  object        \n",
      " 6   Latitude                29184 non-null  object        \n",
      " 7   Longitude               29178 non-null  object        \n",
      " 8   Airport.Code            41520 non-null  object        \n",
      " 9   Airport.Name            43358 non-null  object        \n",
      " 10  Injury.Severity         72924 non-null  object        \n",
      " 11  Aircraft.damage         71833 non-null  object        \n",
      " 12  Aircraft.Category       23786 non-null  object        \n",
      " 13  Registration.Number     72271 non-null  object        \n",
      " 14  Make                    73247 non-null  object        \n",
      " 15  Model                   73247 non-null  object        \n",
      " 16  Amateur.Built           73247 non-null  object        \n",
      " 17  Number.of.Engines       68701 non-null  float64       \n",
      " 18  Engine.Type             67794 non-null  object        \n",
      " 19  FAR.Description         23619 non-null  object        \n",
      " 20  Schedule                9353 non-null   object        \n",
      " 21  Purpose.of.flight       69023 non-null  object        \n",
      " 22  Air.carrier             13489 non-null  object        \n",
      " 23  Total.Fatal.Injuries    63706 non-null  float64       \n",
      " 24  Total.Serious.Injuries  62787 non-null  float64       \n",
      " 25  Total.Minor.Injuries    63289 non-null  float64       \n",
      " 26  Total.Uninjured         68489 non-null  float64       \n",
      " 27  Weather.Condition       70239 non-null  object        \n",
      " 28  Broad.phase.of.flight   51013 non-null  object        \n",
      " 29  Report.Status           68376 non-null  object        \n",
      " 30  Publication.Date        61098 non-null  object        \n",
      " 31  Year                    73247 non-null  int32         \n",
      "dtypes: datetime64[ns](1), float64(5), int32(1), object(25)\n",
      "memory usage: 18.2+ MB\n"
     ]
    }
   ],
   "source": [
    "df.info()"
   ]
  },
  {
   "cell_type": "code",
   "execution_count": 32,
   "id": "da0bfc80-fed2-4685-9880-cb4e9ee462ba",
   "metadata": {},
   "outputs": [
    {
     "data": {
      "text/plain": [
       "Injury.Severity\n",
       "Non-Fatal     57669\n",
       "Fatal(1)       4693\n",
       "Fatal          4547\n",
       "Fatal(2)       3130\n",
       "Fatal(3)       1046\n",
       "              ...  \n",
       "Fatal(144)        1\n",
       "Fatal(60)         1\n",
       "Fatal(270)        1\n",
       "Fatal(143)        1\n",
       "Fatal(230)        1\n",
       "Name: count, Length: 103, dtype: int64"
      ]
     },
     "execution_count": 32,
     "metadata": {},
     "output_type": "execute_result"
    }
   ],
   "source": [
    "df['Injury.Severity'].value_counts()"
   ]
  },
  {
   "cell_type": "markdown",
   "id": "21933073-8c2c-4cbd-b73a-19cb0d93189e",
   "metadata": {},
   "source": [
    "## Estimaton of Total Passengers"
   ]
  },
  {
   "cell_type": "code",
   "execution_count": 33,
   "id": "0367b4a1-690c-4a1e-865c-4cfc020518e2",
   "metadata": {},
   "outputs": [],
   "source": [
    "tot_pas = [\n",
    "    'Total.Fatal.Injuries',\n",
    "    'Total.Serious.Injuries',\n",
    "    'Total.Minor.Injuries',\n",
    "    'Total.Uninjured'\n",
    "]"
   ]
  },
  {
   "cell_type": "code",
   "execution_count": 34,
   "id": "f4bfbd31-5e23-4ceb-b3c9-f49334efc1dd",
   "metadata": {},
   "outputs": [
    {
     "data": {
      "text/plain": [
       "70"
      ]
     },
     "execution_count": 34,
     "metadata": {},
     "output_type": "execute_result"
    }
   ],
   "source": [
    "df[tot_pas].isna().all(axis=1).sum()"
   ]
  },
  {
   "cell_type": "code",
   "execution_count": 35,
   "id": "f0d10816-a56f-49b5-a2c7-64c722bf59a9",
   "metadata": {},
   "outputs": [
    {
     "data": {
      "text/plain": [
       "0"
      ]
     },
     "execution_count": 35,
     "metadata": {},
     "output_type": "execute_result"
    }
   ],
   "source": [
    "# Change blanks to cero\n",
    "df[tot_pas] = df[tot_pas].fillna(0)\n",
    "df[tot_pas].isna().all(axis=1).sum()"
   ]
  },
  {
   "cell_type": "code",
   "execution_count": 36,
   "id": "6690818b-33d5-43ca-958b-ce4b10252d4b",
   "metadata": {},
   "outputs": [
    {
     "data": {
      "text/plain": [
       "0"
      ]
     },
     "execution_count": 36,
     "metadata": {},
     "output_type": "execute_result"
    }
   ],
   "source": [
    "df['TOTAL_Passengers'] = df['Total.Fatal.Injuries']+ df['Total.Serious.Injuries']+ df['Total.Minor.Injuries']+ df['Total.Uninjured']\n",
    "df['TOTAL_Passengers'].isna().sum()"
   ]
  },
  {
   "cell_type": "markdown",
   "id": "5ded8cd1-a8b3-4177-8ad2-1ebc3fe72cc2",
   "metadata": {},
   "source": [
    "#### Estimaton of Bad Injuries"
   ]
  },
  {
   "cell_type": "code",
   "execution_count": 37,
   "id": "c2fd17eb-b43b-4929-b23e-adf4ff34fbd2",
   "metadata": {},
   "outputs": [
    {
     "data": {
      "text/plain": [
       "63439.0"
      ]
     },
     "execution_count": 37,
     "metadata": {},
     "output_type": "execute_result"
    }
   ],
   "source": [
    "df['TOTAL_bad_Injuries'] = df['Total.Fatal.Injuries']+ df['Total.Serious.Injuries']\n",
    "df['TOTAL_bad_Injuries'].sum()"
   ]
  },
  {
   "cell_type": "markdown",
   "id": "0ac199d7-7135-4630-a2c5-bfc59898c72a",
   "metadata": {},
   "source": [
    "## Injury.Severity"
   ]
  },
  {
   "cell_type": "markdown",
   "id": "c05b6668-8c78-4067-9518-edca11496c6d",
   "metadata": {},
   "source": [
    "Inspection of 'Injury. Severity' = Unavailable"
   ]
  },
  {
   "cell_type": "code",
   "execution_count": 38,
   "id": "584a9f96-970e-4f95-b175-d45935948791",
   "metadata": {},
   "outputs": [
    {
     "data": {
      "text/plain": [
       "0.0"
      ]
     },
     "execution_count": 38,
     "metadata": {},
     "output_type": "execute_result"
    }
   ],
   "source": [
    "# There is not a single passenger in 'Unavailable'\n",
    "df[df['Injury.Severity'] == 'Unavailable']['TOTAL_Passengers'].sum()"
   ]
  },
  {
   "cell_type": "code",
   "execution_count": 39,
   "id": "62948351-6081-4a6a-b92c-0b93c8a7bd10",
   "metadata": {},
   "outputs": [
    {
     "data": {
      "text/plain": [
       "(79,)"
      ]
     },
     "execution_count": 39,
     "metadata": {},
     "output_type": "execute_result"
    }
   ],
   "source": [
    "# I will drop all rows with Unavailable because they don't have info of passengers (79)\n",
    "df[df['Injury.Severity'] == 'Unavailable']['TOTAL_Passengers'].shape"
   ]
  },
  {
   "cell_type": "code",
   "execution_count": 40,
   "id": "33842f19-de46-44d9-a2aa-54544e442ebc",
   "metadata": {},
   "outputs": [
    {
     "data": {
      "text/plain": [
       "0"
      ]
     },
     "execution_count": 40,
     "metadata": {},
     "output_type": "execute_result"
    }
   ],
   "source": [
    "# There are 69 blanks /79, the other 10 shows 0 (previous code line) - This step is no needed but it is cool\n",
    "df[df['Injury.Severity'] == 'Unavailable']['TOTAL_Passengers'].isna().sum()"
   ]
  },
  {
   "cell_type": "code",
   "execution_count": 41,
   "id": "85bda1fc-6af4-4dc2-8fb5-63dad4e14106",
   "metadata": {},
   "outputs": [
    {
     "data": {
      "text/plain": [
       "array(['Non-Fatal', 'Fatal(2)', 'Fatal(3)', 'Fatal(1)', 'Fatal(5)',\n",
       "       'Fatal(6)', 'Fatal(4)', 'Fatal(23)', 'Fatal(8)', 'Fatal(10)',\n",
       "       'Fatal(11)', 'Fatal(7)', 'Fatal(9)', 'Fatal(17)', 'Fatal(13)',\n",
       "       'Fatal(29)', 'Fatal(70)', 'Fatal(135)', 'Fatal(31)', 'Fatal(14)',\n",
       "       'Fatal(256)', 'Fatal(25)', 'Fatal(82)', 'Fatal(156)', 'Fatal(28)',\n",
       "       'Fatal(18)', 'Fatal(43)', 'Fatal(15)', 'Fatal(12)', 'Fatal(270)',\n",
       "       'Fatal(144)', 'Fatal(174)', 'Fatal(111)', 'Fatal(131)',\n",
       "       'Fatal(20)', 'Fatal(73)', 'Fatal(27)', 'Fatal(34)', 'Fatal(87)',\n",
       "       'Fatal(30)', 'Fatal(16)', 'Fatal(47)', 'Fatal(56)', 'Fatal(37)',\n",
       "       'Fatal(132)', 'Fatal(68)', 'Fatal(54)', 'Fatal(52)', 'Fatal(65)',\n",
       "       'Fatal(72)', 'Fatal(160)', 'Fatal(189)', 'Fatal(123)', 'Fatal(33)',\n",
       "       'Fatal(110)', 'Fatal(230)', 'Fatal(97)', 'Fatal(349)',\n",
       "       'Fatal(125)', 'Fatal(228)', 'Fatal(75)', 'Fatal(104)',\n",
       "       'Fatal(229)', 'Fatal(80)', 'Fatal(217)', 'Fatal(169)', 'Fatal(88)',\n",
       "       'Fatal(19)', 'Fatal(60)', 'Fatal(113)', 'Fatal(143)', 'Fatal(83)',\n",
       "       'Fatal(24)', 'Fatal(44)', 'Fatal(64)', 'Fatal(92)', 'Fatal(118)',\n",
       "       'Fatal(265)', 'Fatal(26)', 'Fatal(138)', 'Fatal(206)', 'Fatal(71)',\n",
       "       'Fatal(21)', 'Fatal(46)', 'Fatal(102)', 'Fatal(115)', 'Fatal(141)',\n",
       "       'Fatal(55)', 'Fatal(121)', 'Fatal(45)', 'Fatal(145)', 'Fatal(117)',\n",
       "       'Fatal(107)', 'Fatal(124)', 'Fatal(49)', 'Fatal(154)', 'Fatal(96)',\n",
       "       'Fatal(199)', 'Fatal(89)', 'Fatal', 'Minor', 'Serious'],\n",
       "      dtype=object)"
      ]
     },
     "execution_count": 41,
     "metadata": {},
     "output_type": "execute_result"
    }
   ],
   "source": [
    "# Delete Unavailable\n",
    "df = df[df['Injury.Severity'] != 'Unavailable']\n",
    "# Confirm \n",
    "df['Injury.Severity'].dropna().unique()"
   ]
  },
  {
   "cell_type": "markdown",
   "id": "ab6cce3c-8cd2-46f9-a22f-102aad3e0f26",
   "metadata": {},
   "source": [
    "Inspection of 'Injury. Severity' = blanks"
   ]
  },
  {
   "cell_type": "code",
   "execution_count": 42,
   "id": "fe8191ed-0c45-411b-a9ed-64b5473c1d4a",
   "metadata": {},
   "outputs": [
    {
     "data": {
      "text/plain": [
       "323"
      ]
     },
     "execution_count": 42,
     "metadata": {},
     "output_type": "execute_result"
    }
   ],
   "source": [
    "df['Injury.Severity'].isna().sum()"
   ]
  },
  {
   "cell_type": "code",
   "execution_count": 43,
   "id": "f5be72e2-2daf-48b5-93bd-51662744d396",
   "metadata": {},
   "outputs": [
    {
     "data": {
      "text/plain": [
       "0.0"
      ]
     },
     "execution_count": 43,
     "metadata": {},
     "output_type": "execute_result"
    }
   ],
   "source": [
    "# There are 323 blanks and all of them have 0 injuries\n",
    "df[df['Injury.Severity'].isna()]['TOTAL_Passengers'].sum()"
   ]
  },
  {
   "cell_type": "code",
   "execution_count": 44,
   "id": "299dafe8-100c-4fbb-b5fd-47eb8327f4c7",
   "metadata": {},
   "outputs": [
    {
     "data": {
      "text/plain": [
       "0"
      ]
     },
     "execution_count": 44,
     "metadata": {},
     "output_type": "execute_result"
    }
   ],
   "source": [
    "# Eliminate blanks\n",
    "df = df.dropna(subset=['Injury.Severity'])\n",
    "# Confirm\n",
    "df['Injury.Severity'].isna().sum()"
   ]
  },
  {
   "cell_type": "code",
   "execution_count": 45,
   "id": "8dd24ce0-1653-4070-9313-89c1351a1c3c",
   "metadata": {},
   "outputs": [
    {
     "name": "stdout",
     "output_type": "stream",
     "text": [
      "<class 'pandas.core.frame.DataFrame'>\n",
      "Index: 72845 entries, 3600 to 88888\n",
      "Data columns (total 34 columns):\n",
      " #   Column                  Non-Null Count  Dtype         \n",
      "---  ------                  --------------  -----         \n",
      " 0   Event.Id                72845 non-null  object        \n",
      " 1   Investigation.Type      72845 non-null  object        \n",
      " 2   Accident.Number         72845 non-null  object        \n",
      " 3   Event.Date              72845 non-null  datetime64[ns]\n",
      " 4   Location                72810 non-null  object        \n",
      " 5   Country                 72656 non-null  object        \n",
      " 6   Latitude                29072 non-null  object        \n",
      " 7   Longitude               29066 non-null  object        \n",
      " 8   Airport.Code            41459 non-null  object        \n",
      " 9   Airport.Name            43302 non-null  object        \n",
      " 10  Injury.Severity         72845 non-null  object        \n",
      " 11  Aircraft.damage         71494 non-null  object        \n",
      " 12  Aircraft.Category       23487 non-null  object        \n",
      " 13  Registration.Number     71931 non-null  object        \n",
      " 14  Make                    72845 non-null  object        \n",
      " 15  Model                   72845 non-null  object        \n",
      " 16  Amateur.Built           72845 non-null  object        \n",
      " 17  Number.of.Engines       68604 non-null  float64       \n",
      " 18  Engine.Type             67709 non-null  object        \n",
      " 19  FAR.Description         23334 non-null  object        \n",
      " 20  Schedule                9219 non-null   object        \n",
      " 21  Purpose.of.flight       68932 non-null  object        \n",
      " 22  Air.carrier             13372 non-null  object        \n",
      " 23  Total.Fatal.Injuries    72845 non-null  float64       \n",
      " 24  Total.Serious.Injuries  72845 non-null  float64       \n",
      " 25  Total.Minor.Injuries    72845 non-null  float64       \n",
      " 26  Total.Uninjured         72845 non-null  float64       \n",
      " 27  Weather.Condition       70146 non-null  object        \n",
      " 28  Broad.phase.of.flight   51008 non-null  object        \n",
      " 29  Report.Status           68275 non-null  object        \n",
      " 30  Publication.Date        60840 non-null  object        \n",
      " 31  Year                    72845 non-null  int32         \n",
      " 32  TOTAL_Passengers        72845 non-null  float64       \n",
      " 33  TOTAL_bad_Injuries      72845 non-null  float64       \n",
      "dtypes: datetime64[ns](1), float64(7), int32(1), object(25)\n",
      "memory usage: 19.2+ MB\n"
     ]
    }
   ],
   "source": [
    "df.info()"
   ]
  },
  {
   "cell_type": "markdown",
   "id": "d69324fe-2a9c-40ba-b37c-e900ece9759c",
   "metadata": {},
   "source": [
    "## Aircraft Damage\n",
    "The client is only interested in Total destrucction, but I will inspect substancial in injuries"
   ]
  },
  {
   "cell_type": "code",
   "execution_count": 46,
   "id": "d7e4fb84-08ce-4aef-af4d-a8ad1f939798",
   "metadata": {},
   "outputs": [
    {
     "data": {
      "text/plain": [
       "Aircraft.damage\n",
       "Substantial    55402\n",
       "Destroyed      15366\n",
       "Minor            647\n",
       "Unknown           79\n",
       "Name: count, dtype: int64"
      ]
     },
     "execution_count": 46,
     "metadata": {},
     "output_type": "execute_result"
    }
   ],
   "source": [
    "# There are 79 unknows and 647 minor in Aircraft Damage\n",
    "df['Aircraft.damage'].value_counts()"
   ]
  },
  {
   "cell_type": "code",
   "execution_count": 47,
   "id": "7108ae3f-2951-4036-80a3-0d9ef50e2436",
   "metadata": {},
   "outputs": [
    {
     "data": {
      "text/plain": [
       "1351"
      ]
     },
     "execution_count": 47,
     "metadata": {},
     "output_type": "execute_result"
    }
   ],
   "source": [
    "# There are 1351 blanks in Aircraft Damage\n",
    "df['Aircraft.damage'].isna().sum()"
   ]
  },
  {
   "cell_type": "code",
   "execution_count": 48,
   "id": "3058a076-d0e2-4aba-af44-0d62b3ffd09f",
   "metadata": {},
   "outputs": [
    {
     "data": {
      "text/plain": [
       "Aircraft.damage\n",
       "Substantial    55402\n",
       "Destroyed      15366\n",
       "Unknown         1430\n",
       "Minor            647\n",
       "Name: count, dtype: int64"
      ]
     },
     "execution_count": 48,
     "metadata": {},
     "output_type": "execute_result"
    }
   ],
   "source": [
    "# All 1351 blanks as Unknown\n",
    "df['Aircraft.damage'] = df['Aircraft.damage'].fillna('Unknown')\n",
    "df['Aircraft.damage'].value_counts()"
   ]
  },
  {
   "cell_type": "code",
   "execution_count": 49,
   "id": "93842de3-e6c4-41ac-92ee-cc1e30a8c63b",
   "metadata": {},
   "outputs": [
    {
     "data": {
      "text/plain": [
       "78140.0"
      ]
     },
     "execution_count": 49,
     "metadata": {},
     "output_type": "execute_result"
    }
   ],
   "source": [
    "df[df['Aircraft.damage'] == 'Unknown']['TOTAL_Passengers'].sum()"
   ]
  },
  {
   "cell_type": "code",
   "execution_count": 50,
   "id": "f361ded8-4724-44c6-8da2-011c9f139e66",
   "metadata": {},
   "outputs": [
    {
     "data": {
      "text/plain": [
       "2409.0"
      ]
     },
     "execution_count": 50,
     "metadata": {},
     "output_type": "execute_result"
    }
   ],
   "source": [
    "df[df['Aircraft.damage'] == 'Unknown']['TOTAL_bad_Injuries'].sum()"
   ]
  },
  {
   "cell_type": "markdown",
   "id": "a8388fa3-0c73-4757-b538-e0b1d5dc56c9",
   "metadata": {},
   "source": [
    "Eliminate 'Unknown' with mild injuries, becasue the bad injuries might be relevants for injuries analisys "
   ]
  },
  {
   "cell_type": "code",
   "execution_count": 51,
   "id": "f4ec65e0-9968-4ab4-9777-b7762fe1baab",
   "metadata": {},
   "outputs": [
    {
     "data": {
      "text/plain": [
       "0"
      ]
     },
     "execution_count": 51,
     "metadata": {},
     "output_type": "execute_result"
    }
   ],
   "source": [
    "# Delete \n",
    "df = df[~((df['Aircraft.damage'] == 'Unknown') & (df['TOTAL_bad_Injuries'].fillna(0) == 0))]\n",
    "# Confirm \n",
    "((df['Aircraft.damage'] == 'Unknown') & (df['TOTAL_bad_Injuries'].fillna(0) == 0)).sum()"
   ]
  },
  {
   "cell_type": "markdown",
   "id": "8790732a-7ef3-4e99-b1f0-5fcade9be95f",
   "metadata": {},
   "source": [
    "## Aircraft Category\n",
    "Only Airplanes meet the conditions of the client"
   ]
  },
  {
   "cell_type": "code",
   "execution_count": 52,
   "id": "a4d3d6e4-56ff-4e0a-8758-d12354cbc5cd",
   "metadata": {},
   "outputs": [
    {
     "data": {
      "text/plain": [
       "Aircraft.Category\n",
       "Airplane             19408\n",
       "Helicopter            2855\n",
       "Glider                 430\n",
       "Balloon                139\n",
       "Weight-Shift           138\n",
       "Powered Parachute       82\n",
       "Gyrocraft               31\n",
       "Ultralight              18\n",
       "WSFT                     9\n",
       "Unknown                  7\n",
       "Blimp                    4\n",
       "Powered-Lift             3\n",
       "Rocket                   1\n",
       "Name: count, dtype: int64"
      ]
     },
     "execution_count": 52,
     "metadata": {},
     "output_type": "execute_result"
    }
   ],
   "source": [
    "df['Aircraft.Category'].value_counts()"
   ]
  },
  {
   "cell_type": "code",
   "execution_count": 53,
   "id": "b317d8e3-1ffc-4b91-b773-98fee0fd3e29",
   "metadata": {},
   "outputs": [
    {
     "data": {
      "text/plain": [
       "Aircraft.Category\n",
       "Airplane    19408\n",
       "Name: count, dtype: int64"
      ]
     },
     "execution_count": 53,
     "metadata": {},
     "output_type": "execute_result"
    }
   ],
   "source": [
    "# Delete\n",
    "df = df[df['Aircraft.Category'] == 'Airplane']\n",
    "# Confirm\n",
    "df['Aircraft.Category'].value_counts()"
   ]
  },
  {
   "cell_type": "markdown",
   "id": "0f8fb967-bce6-482c-89fb-8c152f7797e4",
   "metadata": {},
   "source": [
    "## FAR Description"
   ]
  },
  {
   "cell_type": "code",
   "execution_count": 54,
   "id": "8120c230-34b9-412d-b129-ad5d9d4e04b9",
   "metadata": {},
   "outputs": [
    {
     "data": {
      "text/plain": [
       "FAR.Description\n",
       "091                              13201\n",
       "Part 91: General Aviation         2500\n",
       "NUSN                               935\n",
       "137                                736\n",
       "135                                489\n",
       "NUSC                               268\n",
       "121                                247\n",
       "Part 137: Agricultural             151\n",
       "UNK                                145\n",
       "PUBU                               122\n",
       "Part 121: Air Carrier               85\n",
       "Part 135: Air Taxi & Commuter       77\n",
       "Non-U.S., Non-Commercial            68\n",
       "129                                 44\n",
       "Non-U.S., Commercial                39\n",
       "Part 129: Foreign                   36\n",
       "Public Use                          11\n",
       "Unknown                              8\n",
       "091K                                 7\n",
       "125                                  3\n",
       "Part 125: 20+ Pax,6000+ lbs          1\n",
       "Part 91 Subpart K: Fractional        1\n",
       "Public Aircraft                      1\n",
       "ARMF                                 1\n",
       "107                                  1\n",
       "Name: count, dtype: int64"
      ]
     },
     "execution_count": 54,
     "metadata": {},
     "output_type": "execute_result"
    }
   ],
   "source": [
    "df['FAR.Description'].value_counts()"
   ]
  },
  {
   "cell_type": "code",
   "execution_count": 55,
   "id": "26de4097-f435-415d-9cf4-6509a089c7e8",
   "metadata": {},
   "outputs": [
    {
     "data": {
      "text/plain": [
       "231"
      ]
     },
     "execution_count": 55,
     "metadata": {},
     "output_type": "execute_result"
    }
   ],
   "source": [
    "df['FAR.Description'].isna().sum()"
   ]
  },
  {
   "cell_type": "code",
   "execution_count": 56,
   "id": "e60b1b8f-9ecd-4655-bda2-d538c09d0466",
   "metadata": {},
   "outputs": [
    {
     "data": {
      "text/plain": [
       "FAR.Description\n",
       "091                              13201\n",
       "Part 91: General Aviation         2500\n",
       "NUSN                               935\n",
       "137                                736\n",
       "135                                489\n",
       "NUSC                               268\n",
       "121                                247\n",
       "Unknown                            239\n",
       "Part 137: Agricultural             151\n",
       "UNK                                145\n",
       "PUBU                               122\n",
       "Part 121: Air Carrier               85\n",
       "Part 135: Air Taxi & Commuter       77\n",
       "Non-U.S., Non-Commercial            68\n",
       "129                                 44\n",
       "Non-U.S., Commercial                39\n",
       "Part 129: Foreign                   36\n",
       "Public Use                          11\n",
       "091K                                 7\n",
       "125                                  3\n",
       "Part 125: 20+ Pax,6000+ lbs          1\n",
       "Part 91 Subpart K: Fractional        1\n",
       "Public Aircraft                      1\n",
       "ARMF                                 1\n",
       "107                                  1\n",
       "Name: count, dtype: int64"
      ]
     },
     "execution_count": 56,
     "metadata": {},
     "output_type": "execute_result"
    }
   ],
   "source": [
    "# All 231 blanks as Unknown\n",
    "df['FAR.Description'] = df['FAR.Description'].fillna('Unknown')\n",
    "df['FAR.Description'].value_counts()"
   ]
  },
  {
   "cell_type": "code",
   "execution_count": 57,
   "id": "9fb709dc-38e9-41f3-9900-a8834f2e5f90",
   "metadata": {},
   "outputs": [
    {
     "data": {
      "text/plain": [
       "1273"
      ]
     },
     "execution_count": 57,
     "metadata": {},
     "output_type": "execute_result"
    }
   ],
   "source": [
    "# Eliminate the following FAR Descriptions because they are not relevant for the client\n",
    "# I will keep NUSN and Non-us becasuse it is not clear if they are particular/private\n",
    "# 137 are Agricultural, unknowns are noise, ARMF military, 107 drones\n",
    "drop_fars = [\n",
    "    '137',\n",
    "    'Part 137: Agricultural',\n",
    "    'UNK',\n",
    "    'Unknown',\n",
    "    'ARMF',\n",
    "    '107'\n",
    "]\n",
    "\n",
    "df['FAR.Description'].isin(drop_fars).sum()"
   ]
  },
  {
   "cell_type": "code",
   "execution_count": 58,
   "id": "0be60190-3ea0-486f-b5b0-edfa1d714367",
   "metadata": {},
   "outputs": [
    {
     "data": {
      "text/plain": [
       "FAR.Description\n",
       "091                              13201\n",
       "Part 91: General Aviation         2500\n",
       "NUSN                               935\n",
       "135                                489\n",
       "NUSC                               268\n",
       "121                                247\n",
       "PUBU                               122\n",
       "Part 121: Air Carrier               85\n",
       "Part 135: Air Taxi & Commuter       77\n",
       "Non-U.S., Non-Commercial            68\n",
       "129                                 44\n",
       "Non-U.S., Commercial                39\n",
       "Part 129: Foreign                   36\n",
       "Public Use                          11\n",
       "091K                                 7\n",
       "125                                  3\n",
       "Part 91 Subpart K: Fractional        1\n",
       "Public Aircraft                      1\n",
       "Part 125: 20+ Pax,6000+ lbs          1\n",
       "Name: count, dtype: int64"
      ]
     },
     "execution_count": 58,
     "metadata": {},
     "output_type": "execute_result"
    }
   ],
   "source": [
    "# Delete rows where FAR.Description is in drop_fars\n",
    "df = df[~df['FAR.Description'].isin(drop_fars)]\n",
    "# Confirm remaining FAR.Description values\n",
    "df['FAR.Description'].value_counts()"
   ]
  },
  {
   "cell_type": "code",
   "execution_count": 59,
   "id": "701d7496-0745-46c8-948f-28379a8041d9",
   "metadata": {},
   "outputs": [
    {
     "name": "stdout",
     "output_type": "stream",
     "text": [
      "<class 'pandas.core.frame.DataFrame'>\n",
      "Index: 18135 entries, 4171 to 88886\n",
      "Data columns (total 34 columns):\n",
      " #   Column                  Non-Null Count  Dtype         \n",
      "---  ------                  --------------  -----         \n",
      " 0   Event.Id                18135 non-null  object        \n",
      " 1   Investigation.Type      18135 non-null  object        \n",
      " 2   Accident.Number         18135 non-null  object        \n",
      " 3   Event.Date              18135 non-null  datetime64[ns]\n",
      " 4   Location                18133 non-null  object        \n",
      " 5   Country                 18134 non-null  object        \n",
      " 6   Latitude                17222 non-null  object        \n",
      " 7   Longitude               17219 non-null  object        \n",
      " 8   Airport.Code            12797 non-null  object        \n",
      " 9   Airport.Name            12814 non-null  object        \n",
      " 10  Injury.Severity         18135 non-null  object        \n",
      " 11  Aircraft.damage         18135 non-null  object        \n",
      " 12  Aircraft.Category       18135 non-null  object        \n",
      " 13  Registration.Number     18012 non-null  object        \n",
      " 14  Make                    18135 non-null  object        \n",
      " 15  Model                   18135 non-null  object        \n",
      " 16  Amateur.Built           18135 non-null  object        \n",
      " 17  Number.of.Engines       16866 non-null  float64       \n",
      " 18  Engine.Type             15707 non-null  object        \n",
      " 19  FAR.Description         18135 non-null  object        \n",
      " 20  Schedule                1424 non-null   object        \n",
      " 21  Purpose.of.flight       16521 non-null  object        \n",
      " 22  Air.carrier             8170 non-null   object        \n",
      " 23  Total.Fatal.Injuries    18135 non-null  float64       \n",
      " 24  Total.Serious.Injuries  18135 non-null  float64       \n",
      " 25  Total.Minor.Injuries    18135 non-null  float64       \n",
      " 26  Total.Uninjured         18135 non-null  float64       \n",
      " 27  Weather.Condition       16829 non-null  object        \n",
      " 28  Broad.phase.of.flight   2618 non-null   object        \n",
      " 29  Report.Status           15176 non-null  object        \n",
      " 30  Publication.Date        17580 non-null  object        \n",
      " 31  Year                    18135 non-null  int32         \n",
      " 32  TOTAL_Passengers        18135 non-null  float64       \n",
      " 33  TOTAL_bad_Injuries      18135 non-null  float64       \n",
      "dtypes: datetime64[ns](1), float64(7), int32(1), object(25)\n",
      "memory usage: 4.8+ MB\n"
     ]
    }
   ],
   "source": [
    "df.info()"
   ]
  },
  {
   "cell_type": "markdown",
   "id": "e6775468-9d3a-4b69-a39b-dcc0893c3205",
   "metadata": {},
   "source": [
    "### Constructing Key Measurables\n",
    "\n",
    "Injuries and robustness to destruction are a key interest point for the client. Clean and impute relevant columns and then create derived fields that best quantifies what the client wishes to track. **Use commenting or markdown to explain any cleaning assumptions as well as any derived columns you create.**"
   ]
  },
  {
   "cell_type": "markdown",
   "id": "070b08f8",
   "metadata": {},
   "source": [
    "**Construct metric for fatal/serious injuries**\n",
    "\n",
    "*Hint:* Estimate the total number of passengers on each flight. The likelihood of serious / fatal injury can be estimated as a fraction from this."
   ]
  },
  {
   "cell_type": "markdown",
   "id": "52aed337-2b13-4b1a-94f2-f5dd81bb85b7",
   "metadata": {},
   "source": [
    "## RATE BAD INJURIES / Number of Passengers"
   ]
  },
  {
   "cell_type": "code",
   "execution_count": 60,
   "id": "e37c8000-b1fe-43ca-9b22-7197045a5ce4",
   "metadata": {},
   "outputs": [
    {
     "data": {
      "text/plain": [
       "18"
      ]
     },
     "execution_count": 60,
     "metadata": {},
     "output_type": "execute_result"
    }
   ],
   "source": [
    "# I don't want to eliminate \n",
    "(df['TOTAL_Passengers'] == 0).sum()"
   ]
  },
  {
   "cell_type": "code",
   "execution_count": 61,
   "id": "5c169ba0-6d3a-4efb-99d7-bce1c8a2acb5",
   "metadata": {},
   "outputs": [
    {
     "data": {
      "text/plain": [
       "11947"
      ]
     },
     "execution_count": 61,
     "metadata": {},
     "output_type": "execute_result"
    }
   ],
   "source": [
    "# I don't want to eliminate \n",
    "(df['TOTAL_bad_Injuries'] == 0).sum()"
   ]
  },
  {
   "cell_type": "code",
   "execution_count": 62,
   "id": "2265739a-ba57-424e-9b9c-1af5bed3fd8d",
   "metadata": {},
   "outputs": [
    {
     "data": {
      "text/html": [
       "<div>\n",
       "<style scoped>\n",
       "    .dataframe tbody tr th:only-of-type {\n",
       "        vertical-align: middle;\n",
       "    }\n",
       "\n",
       "    .dataframe tbody tr th {\n",
       "        vertical-align: top;\n",
       "    }\n",
       "\n",
       "    .dataframe thead th {\n",
       "        text-align: right;\n",
       "    }\n",
       "</style>\n",
       "<table border=\"1\" class=\"dataframe\">\n",
       "  <thead>\n",
       "    <tr style=\"text-align: right;\">\n",
       "      <th></th>\n",
       "      <th>Event.Date</th>\n",
       "      <th>FAR.Description</th>\n",
       "      <th>Aircraft.Category</th>\n",
       "      <th>FAR.Description</th>\n",
       "      <th>Aircraft.damage</th>\n",
       "      <th>Purpose.of.flight</th>\n",
       "      <th>TOTAL_Passengers</th>\n",
       "    </tr>\n",
       "  </thead>\n",
       "  <tbody>\n",
       "    <tr>\n",
       "      <th>46835</th>\n",
       "      <td>1999-08-13</td>\n",
       "      <td>Part 91: General Aviation</td>\n",
       "      <td>Airplane</td>\n",
       "      <td>Part 91: General Aviation</td>\n",
       "      <td>Substantial</td>\n",
       "      <td>Unknown</td>\n",
       "      <td>0.0</td>\n",
       "    </tr>\n",
       "    <tr>\n",
       "      <th>47320</th>\n",
       "      <td>1999-10-16</td>\n",
       "      <td>Part 91: General Aviation</td>\n",
       "      <td>Airplane</td>\n",
       "      <td>Part 91: General Aviation</td>\n",
       "      <td>Substantial</td>\n",
       "      <td>Unknown</td>\n",
       "      <td>0.0</td>\n",
       "    </tr>\n",
       "    <tr>\n",
       "      <th>73537</th>\n",
       "      <td>2013-05-10</td>\n",
       "      <td>PUBU</td>\n",
       "      <td>Airplane</td>\n",
       "      <td>PUBU</td>\n",
       "      <td>Substantial</td>\n",
       "      <td>Public Aircraft - Federal</td>\n",
       "      <td>0.0</td>\n",
       "    </tr>\n",
       "    <tr>\n",
       "      <th>73963</th>\n",
       "      <td>2013-07-27</td>\n",
       "      <td>PUBU</td>\n",
       "      <td>Airplane</td>\n",
       "      <td>PUBU</td>\n",
       "      <td>Substantial</td>\n",
       "      <td>Aerial Observation</td>\n",
       "      <td>0.0</td>\n",
       "    </tr>\n",
       "    <tr>\n",
       "      <th>74696</th>\n",
       "      <td>2014-01-27</td>\n",
       "      <td>PUBU</td>\n",
       "      <td>Airplane</td>\n",
       "      <td>PUBU</td>\n",
       "      <td>Destroyed</td>\n",
       "      <td>Public Aircraft - Federal</td>\n",
       "      <td>0.0</td>\n",
       "    </tr>\n",
       "    <tr>\n",
       "      <th>76571</th>\n",
       "      <td>2015-05-01</td>\n",
       "      <td>091</td>\n",
       "      <td>Airplane</td>\n",
       "      <td>091</td>\n",
       "      <td>Destroyed</td>\n",
       "      <td>Flight Test</td>\n",
       "      <td>0.0</td>\n",
       "    </tr>\n",
       "    <tr>\n",
       "      <th>79171</th>\n",
       "      <td>2016-10-25</td>\n",
       "      <td>NUSN</td>\n",
       "      <td>Airplane</td>\n",
       "      <td>NUSN</td>\n",
       "      <td>Substantial</td>\n",
       "      <td>NaN</td>\n",
       "      <td>0.0</td>\n",
       "    </tr>\n",
       "    <tr>\n",
       "      <th>84080</th>\n",
       "      <td>2019-10-17</td>\n",
       "      <td>091</td>\n",
       "      <td>Airplane</td>\n",
       "      <td>091</td>\n",
       "      <td>Substantial</td>\n",
       "      <td>Flight Test</td>\n",
       "      <td>0.0</td>\n",
       "    </tr>\n",
       "    <tr>\n",
       "      <th>84230</th>\n",
       "      <td>2019-11-25</td>\n",
       "      <td>091</td>\n",
       "      <td>Airplane</td>\n",
       "      <td>091</td>\n",
       "      <td>Substantial</td>\n",
       "      <td>Instructional</td>\n",
       "      <td>0.0</td>\n",
       "    </tr>\n",
       "    <tr>\n",
       "      <th>85602</th>\n",
       "      <td>2020-11-13</td>\n",
       "      <td>PUBU</td>\n",
       "      <td>Airplane</td>\n",
       "      <td>PUBU</td>\n",
       "      <td>Destroyed</td>\n",
       "      <td>Public Aircraft - Federal</td>\n",
       "      <td>0.0</td>\n",
       "    </tr>\n",
       "    <tr>\n",
       "      <th>85831</th>\n",
       "      <td>2021-02-03</td>\n",
       "      <td>091</td>\n",
       "      <td>Airplane</td>\n",
       "      <td>091</td>\n",
       "      <td>Substantial</td>\n",
       "      <td>Personal</td>\n",
       "      <td>0.0</td>\n",
       "    </tr>\n",
       "    <tr>\n",
       "      <th>86446</th>\n",
       "      <td>2021-06-23</td>\n",
       "      <td>NUSN</td>\n",
       "      <td>Airplane</td>\n",
       "      <td>NUSN</td>\n",
       "      <td>Substantial</td>\n",
       "      <td>NaN</td>\n",
       "      <td>0.0</td>\n",
       "    </tr>\n",
       "    <tr>\n",
       "      <th>87428</th>\n",
       "      <td>2022-02-16</td>\n",
       "      <td>091</td>\n",
       "      <td>Airplane</td>\n",
       "      <td>091</td>\n",
       "      <td>Substantial</td>\n",
       "      <td>Flight Test</td>\n",
       "      <td>0.0</td>\n",
       "    </tr>\n",
       "    <tr>\n",
       "      <th>87722</th>\n",
       "      <td>2022-04-25</td>\n",
       "      <td>091</td>\n",
       "      <td>Airplane</td>\n",
       "      <td>091</td>\n",
       "      <td>Substantial</td>\n",
       "      <td>Personal</td>\n",
       "      <td>0.0</td>\n",
       "    </tr>\n",
       "    <tr>\n",
       "      <th>87804</th>\n",
       "      <td>2022-05-14</td>\n",
       "      <td>091</td>\n",
       "      <td>Airplane</td>\n",
       "      <td>091</td>\n",
       "      <td>Substantial</td>\n",
       "      <td>Personal</td>\n",
       "      <td>0.0</td>\n",
       "    </tr>\n",
       "    <tr>\n",
       "      <th>88280</th>\n",
       "      <td>2022-07-30</td>\n",
       "      <td>091</td>\n",
       "      <td>Airplane</td>\n",
       "      <td>091</td>\n",
       "      <td>Substantial</td>\n",
       "      <td>Personal</td>\n",
       "      <td>0.0</td>\n",
       "    </tr>\n",
       "    <tr>\n",
       "      <th>88607</th>\n",
       "      <td>2022-10-01</td>\n",
       "      <td>091</td>\n",
       "      <td>Airplane</td>\n",
       "      <td>091</td>\n",
       "      <td>Substantial</td>\n",
       "      <td>Personal</td>\n",
       "      <td>0.0</td>\n",
       "    </tr>\n",
       "    <tr>\n",
       "      <th>88680</th>\n",
       "      <td>2022-10-15</td>\n",
       "      <td>091</td>\n",
       "      <td>Airplane</td>\n",
       "      <td>091</td>\n",
       "      <td>Substantial</td>\n",
       "      <td>Personal</td>\n",
       "      <td>0.0</td>\n",
       "    </tr>\n",
       "  </tbody>\n",
       "</table>\n",
       "</div>"
      ],
      "text/plain": [
       "      Event.Date            FAR.Description Aircraft.Category  \\\n",
       "46835 1999-08-13  Part 91: General Aviation          Airplane   \n",
       "47320 1999-10-16  Part 91: General Aviation          Airplane   \n",
       "73537 2013-05-10                       PUBU          Airplane   \n",
       "73963 2013-07-27                       PUBU          Airplane   \n",
       "74696 2014-01-27                       PUBU          Airplane   \n",
       "76571 2015-05-01                        091          Airplane   \n",
       "79171 2016-10-25                       NUSN          Airplane   \n",
       "84080 2019-10-17                        091          Airplane   \n",
       "84230 2019-11-25                        091          Airplane   \n",
       "85602 2020-11-13                       PUBU          Airplane   \n",
       "85831 2021-02-03                        091          Airplane   \n",
       "86446 2021-06-23                       NUSN          Airplane   \n",
       "87428 2022-02-16                        091          Airplane   \n",
       "87722 2022-04-25                        091          Airplane   \n",
       "87804 2022-05-14                        091          Airplane   \n",
       "88280 2022-07-30                        091          Airplane   \n",
       "88607 2022-10-01                        091          Airplane   \n",
       "88680 2022-10-15                        091          Airplane   \n",
       "\n",
       "                 FAR.Description Aircraft.damage          Purpose.of.flight  \\\n",
       "46835  Part 91: General Aviation     Substantial                    Unknown   \n",
       "47320  Part 91: General Aviation     Substantial                    Unknown   \n",
       "73537                       PUBU     Substantial  Public Aircraft - Federal   \n",
       "73963                       PUBU     Substantial         Aerial Observation   \n",
       "74696                       PUBU       Destroyed  Public Aircraft - Federal   \n",
       "76571                        091       Destroyed                Flight Test   \n",
       "79171                       NUSN     Substantial                        NaN   \n",
       "84080                        091     Substantial                Flight Test   \n",
       "84230                        091     Substantial              Instructional   \n",
       "85602                       PUBU       Destroyed  Public Aircraft - Federal   \n",
       "85831                        091     Substantial                   Personal   \n",
       "86446                       NUSN     Substantial                        NaN   \n",
       "87428                        091     Substantial                Flight Test   \n",
       "87722                        091     Substantial                   Personal   \n",
       "87804                        091     Substantial                   Personal   \n",
       "88280                        091     Substantial                   Personal   \n",
       "88607                        091     Substantial                   Personal   \n",
       "88680                        091     Substantial                   Personal   \n",
       "\n",
       "       TOTAL_Passengers  \n",
       "46835               0.0  \n",
       "47320               0.0  \n",
       "73537               0.0  \n",
       "73963               0.0  \n",
       "74696               0.0  \n",
       "76571               0.0  \n",
       "79171               0.0  \n",
       "84080               0.0  \n",
       "84230               0.0  \n",
       "85602               0.0  \n",
       "85831               0.0  \n",
       "86446               0.0  \n",
       "87428               0.0  \n",
       "87722               0.0  \n",
       "87804               0.0  \n",
       "88280               0.0  \n",
       "88607               0.0  \n",
       "88680               0.0  "
      ]
     },
     "execution_count": 62,
     "metadata": {},
     "output_type": "execute_result"
    }
   ],
   "source": [
    "# Following data has 0 passengers but high damage to the aircraft.\n",
    "# I will exclude them for the rate but still in the data because they could be relevant for damages\n",
    "df[df['TOTAL_Passengers'] == 0][[\n",
    "    'Event.Date', 'FAR.Description', 'Aircraft.Category', 'FAR.Description',\n",
    "    'Aircraft.damage', 'Purpose.of.flight',\n",
    "    'TOTAL_Passengers'\n",
    "]]"
   ]
  },
  {
   "cell_type": "code",
   "execution_count": 63,
   "id": "17571cfd-3c66-426a-92da-986f479e2236",
   "metadata": {},
   "outputs": [
    {
     "data": {
      "text/plain": [
       "4171     1.000000\n",
       "4285     0.200000\n",
       "5960     0.500000\n",
       "6669     0.033333\n",
       "6806     0.000000\n",
       "7084     0.000000\n",
       "7708     0.000000\n",
       "8585     0.000000\n",
       "8591     0.000000\n",
       "10247    0.000000\n",
       "10605    1.000000\n",
       "10688    0.500000\n",
       "11638    1.000000\n",
       "11898    0.333333\n",
       "12384    0.000000\n",
       "13114    1.000000\n",
       "14259    1.000000\n",
       "14357    0.000000\n",
       "14711    0.666667\n",
       "14712    0.666667\n",
       "Name: Bad_Injuries_Rate, dtype: float64"
      ]
     },
     "execution_count": 63,
     "metadata": {},
     "output_type": "execute_result"
    }
   ],
   "source": [
    "# If tehre is not injuries and no passanger, I will take that as cero\n",
    "df['Bad_Injuries_Rate'] = df['TOTAL_bad_Injuries'] / df['TOTAL_Passengers'].replace(0, np.nan)\n",
    "df['Bad_Injuries_Rate'].head(20)"
   ]
  },
  {
   "cell_type": "markdown",
   "id": "a120da69-b7fc-4048-a753-f98831764cf8",
   "metadata": {},
   "source": [
    "## Indicators for Fatal/Serious Injuries"
   ]
  },
  {
   "cell_type": "markdown",
   "id": "9a173ebd",
   "metadata": {},
   "source": [
    "### Cleaning other columns\n",
    "- there are other columns containing data that might be related to the outcome of an accident. We list a few here:\n",
    "- Engine.Type\n",
    "- Weather.Condition\n",
    "- Number.of.Engines\n",
    "- Purpose.of.flight\n",
    "- Broad.phase.of.flight\n",
    "\n",
    "Inspect and identify potential cleaning tasks in each of the above columns. Execute those cleaning tasks. \n",
    "\n",
    "**Note**: You do not necessarily need to impute or drop NaNs here."
   ]
  },
  {
   "cell_type": "markdown",
   "id": "c1e16ea5-2b7a-4983-bfe1-2090c7753624",
   "metadata": {},
   "source": [
    "## Engine Type\n",
    "\n",
    "no risk, 1 unknow clean"
   ]
  },
  {
   "cell_type": "code",
   "execution_count": 64,
   "id": "726ec7bd-fc30-4a15-ad6b-1ba0a6efaf4c",
   "metadata": {},
   "outputs": [
    {
     "data": {
      "text/plain": [
       "Engine.Type\n",
       "Reciprocating    14368\n",
       "Turbo Prop         720\n",
       "Turbo Fan          450\n",
       "Turbo Jet           92\n",
       "Unknown             67\n",
       "Turbo Shaft          5\n",
       "Electric             4\n",
       "UNK                  1\n",
       "Name: count, dtype: int64"
      ]
     },
     "execution_count": 64,
     "metadata": {},
     "output_type": "execute_result"
    }
   ],
   "source": [
    "df['Engine.Type'].value_counts()"
   ]
  },
  {
   "cell_type": "code",
   "execution_count": 65,
   "id": "663a72d6-c64e-41b7-a26e-796d81aff497",
   "metadata": {},
   "outputs": [
    {
     "data": {
      "text/plain": [
       "Engine.Type\n",
       "Reciprocating    14368\n",
       "Turbo Prop         720\n",
       "Turbo Fan          450\n",
       "Turbo Jet           92\n",
       "Unknown             67\n",
       "Turbo Shaft          5\n",
       "Electric             4\n",
       "Name: count, dtype: int64"
      ]
     },
     "execution_count": 65,
     "metadata": {},
     "output_type": "execute_result"
    }
   ],
   "source": [
    "df = df[df['Engine.Type'] != 'UNK']\n",
    "df['Engine.Type'].value_counts()"
   ]
  },
  {
   "cell_type": "markdown",
   "id": "c0427288-e6d6-40ac-b3b2-55a15f058661",
   "metadata": {},
   "source": [
    "## Weather Condition\n",
    "\n",
    "small risk, 171 unknown , clean"
   ]
  },
  {
   "cell_type": "code",
   "execution_count": 66,
   "id": "4c6fe35d-4a3f-434f-8bb0-30aae3c94297",
   "metadata": {},
   "outputs": [
    {
     "data": {
      "text/plain": [
       "Weather.Condition\n",
       "VMC    15670\n",
       "IMC      987\n",
       "Unk      129\n",
       "UNK       42\n",
       "Name: count, dtype: int64"
      ]
     },
     "execution_count": 66,
     "metadata": {},
     "output_type": "execute_result"
    }
   ],
   "source": [
    "df['Weather.Condition'].value_counts()"
   ]
  },
  {
   "cell_type": "code",
   "execution_count": 67,
   "id": "124447a1-62e9-4338-ad9e-58f5905566ef",
   "metadata": {},
   "outputs": [
    {
     "data": {
      "text/plain": [
       "Weather.Condition\n",
       "VMC    15670\n",
       "IMC      987\n",
       "Name: count, dtype: int64"
      ]
     },
     "execution_count": 67,
     "metadata": {},
     "output_type": "execute_result"
    }
   ],
   "source": [
    "df = df[df['Weather.Condition'] != 'UNK']\n",
    "df = df[df['Weather.Condition'] != 'Unk']\n",
    "df['Weather.Condition'].value_counts()"
   ]
  },
  {
   "cell_type": "markdown",
   "id": "b4951416-6aa5-494e-b1c7-cca578df8d27",
   "metadata": {},
   "source": [
    "## Num of Engines\n",
    "\n",
    "NO risk"
   ]
  },
  {
   "cell_type": "code",
   "execution_count": 68,
   "id": "b3c27506-100b-4425-bab9-e635352e6361",
   "metadata": {},
   "outputs": [
    {
     "data": {
      "text/plain": [
       "Number.of.Engines\n",
       "1.0    14522\n",
       "2.0     2176\n",
       "4.0       35\n",
       "3.0       22\n",
       "0.0        4\n",
       "8.0        1\n",
       "6.0        1\n",
       "Name: count, dtype: int64"
      ]
     },
     "execution_count": 68,
     "metadata": {},
     "output_type": "execute_result"
    }
   ],
   "source": [
    "df['Number.of.Engines'].value_counts()"
   ]
  },
  {
   "cell_type": "markdown",
   "id": "943d6a0e-586c-4644-ad85-c63ab24aa4c0",
   "metadata": {},
   "source": [
    "## Broad.phase.of.flight\n",
    "\n",
    "10 unknown , low risk and no relevant for the evaluation"
   ]
  },
  {
   "cell_type": "code",
   "execution_count": 69,
   "id": "bc7f20e5-93d8-4a6b-b6f3-a35b1c7de993",
   "metadata": {},
   "outputs": [
    {
     "data": {
      "text/plain": [
       "Broad.phase.of.flight\n",
       "Landing        1227\n",
       "Takeoff         449\n",
       "Cruise          245\n",
       "Approach        230\n",
       "Taxi            104\n",
       "Maneuvering     101\n",
       "Go-around        89\n",
       "Descent          66\n",
       "Climb            51\n",
       "Standing         41\n",
       "Unknown           8\n",
       "Other             3\n",
       "Name: count, dtype: int64"
      ]
     },
     "execution_count": 69,
     "metadata": {},
     "output_type": "execute_result"
    }
   ],
   "source": [
    "df['Broad.phase.of.flight'].value_counts()"
   ]
  },
  {
   "cell_type": "markdown",
   "id": "8811609c-f5d1-47c5-8c75-95e4530e6bea",
   "metadata": {},
   "source": [
    "## Porpouse of the flight\n",
    "\n",
    "NO risk"
   ]
  },
  {
   "cell_type": "code",
   "execution_count": 70,
   "id": "aeebb857-f380-48f4-b1e0-c9050974f23f",
   "metadata": {},
   "outputs": [
    {
     "data": {
      "text/plain": [
       "Purpose.of.flight\n",
       "Personal                     11533\n",
       "Instructional                 2694\n",
       "Business                       464\n",
       "Positioning                    321\n",
       "Unknown                        237\n",
       "Skydiving                      162\n",
       "Aerial Observation             152\n",
       "Other Work Use                 150\n",
       "Flight Test                    114\n",
       "Ferry                           98\n",
       "Banner Tow                      89\n",
       "Executive/corporate             89\n",
       "Aerial Application              59\n",
       "Public Aircraft - Federal       50\n",
       "Air Race show                   47\n",
       "Glider Tow                      35\n",
       "Public Aircraft                 35\n",
       "Public Aircraft - State         23\n",
       "Firefighting                    15\n",
       "Public Aircraft - Local         11\n",
       "ASHO                             5\n",
       "Air Race/show                    4\n",
       "Air Drop                         3\n",
       "PUBS                             3\n",
       "Name: count, dtype: int64"
      ]
     },
     "execution_count": 70,
     "metadata": {},
     "output_type": "execute_result"
    }
   ],
   "source": [
    "df['Purpose.of.flight'].value_counts()"
   ]
  },
  {
   "cell_type": "markdown",
   "id": "750d48f1",
   "metadata": {},
   "source": [
    "## Save DataFrame to csv\n",
    "- its generally useful to save data to file/server after its in a sufficiently cleaned or intermediate state\n",
    "- the data can then be loaded directly in another notebook for further analysis\n",
    "- this helps keep your notebooks and workflow readable, clean and modularized"
   ]
  },
  {
   "cell_type": "code",
   "execution_count": 71,
   "id": "06455f06-ff84-410d-8044-41a397f23cb0",
   "metadata": {},
   "outputs": [
    {
     "name": "stdout",
     "output_type": "stream",
     "text": [
      "<class 'pandas.core.frame.DataFrame'>\n",
      "Index: 17963 entries, 4171 to 88886\n",
      "Data columns (total 35 columns):\n",
      " #   Column                  Non-Null Count  Dtype         \n",
      "---  ------                  --------------  -----         \n",
      " 0   Event.Id                17963 non-null  object        \n",
      " 1   Investigation.Type      17963 non-null  object        \n",
      " 2   Accident.Number         17963 non-null  object        \n",
      " 3   Event.Date              17963 non-null  datetime64[ns]\n",
      " 4   Location                17963 non-null  object        \n",
      " 5   Country                 17962 non-null  object        \n",
      " 6   Latitude                17110 non-null  object        \n",
      " 7   Longitude               17107 non-null  object        \n",
      " 8   Airport.Code            12756 non-null  object        \n",
      " 9   Airport.Name            12770 non-null  object        \n",
      " 10  Injury.Severity         17963 non-null  object        \n",
      " 11  Aircraft.damage         17963 non-null  object        \n",
      " 12  Aircraft.Category       17963 non-null  object        \n",
      " 13  Registration.Number     17862 non-null  object        \n",
      " 14  Make                    17963 non-null  object        \n",
      " 15  Model                   17963 non-null  object        \n",
      " 16  Amateur.Built           17963 non-null  object        \n",
      " 17  Number.of.Engines       16761 non-null  float64       \n",
      " 18  Engine.Type             15578 non-null  object        \n",
      " 19  FAR.Description         17963 non-null  object        \n",
      " 20  Schedule                1360 non-null   object        \n",
      " 21  Purpose.of.flight       16393 non-null  object        \n",
      " 22  Air.carrier             8091 non-null   object        \n",
      " 23  Total.Fatal.Injuries    17963 non-null  float64       \n",
      " 24  Total.Serious.Injuries  17963 non-null  float64       \n",
      " 25  Total.Minor.Injuries    17963 non-null  float64       \n",
      " 26  Total.Uninjured         17963 non-null  float64       \n",
      " 27  Weather.Condition       16657 non-null  object        \n",
      " 28  Broad.phase.of.flight   2614 non-null   object        \n",
      " 29  Report.Status           15075 non-null  object        \n",
      " 30  Publication.Date        17441 non-null  object        \n",
      " 31  Year                    17963 non-null  int32         \n",
      " 32  TOTAL_Passengers        17963 non-null  float64       \n",
      " 33  TOTAL_bad_Injuries      17963 non-null  float64       \n",
      " 34  Bad_Injuries_Rate       17947 non-null  float64       \n",
      "dtypes: datetime64[ns](1), float64(8), int32(1), object(25)\n",
      "memory usage: 4.9+ MB\n"
     ]
    }
   ],
   "source": [
    "df.info()"
   ]
  },
  {
   "cell_type": "code",
   "execution_count": 72,
   "id": "cfe3a4ea-c848-4667-9493-0c8c280ddbcd",
   "metadata": {},
   "outputs": [
    {
     "data": {
      "text/plain": [
       "Index(['Event.Id', 'Investigation.Type', 'Accident.Number', 'Event.Date',\n",
       "       'Location', 'Country', 'Latitude', 'Longitude', 'Airport.Code',\n",
       "       'Airport.Name', 'Injury.Severity', 'Aircraft.damage',\n",
       "       'Aircraft.Category', 'Registration.Number', 'Make', 'Model',\n",
       "       'Amateur.Built', 'Number.of.Engines', 'Engine.Type', 'FAR.Description',\n",
       "       'Schedule', 'Purpose.of.flight', 'Air.carrier', 'Total.Fatal.Injuries',\n",
       "       'Total.Serious.Injuries', 'Total.Minor.Injuries', 'Total.Uninjured',\n",
       "       'Weather.Condition', 'Broad.phase.of.flight', 'Report.Status',\n",
       "       'Publication.Date', 'Year', 'TOTAL_Passengers', 'TOTAL_bad_Injuries',\n",
       "       'Bad_Injuries_Rate'],\n",
       "      dtype='object')"
      ]
     },
     "execution_count": 72,
     "metadata": {},
     "output_type": "execute_result"
    }
   ],
   "source": [
    "df.columns"
   ]
  },
  {
   "cell_type": "code",
   "execution_count": 73,
   "id": "79f9a71e-70db-4502-bc61-f1694dab0fe3",
   "metadata": {},
   "outputs": [],
   "source": [
    "df.to_csv(\"AviationData_cleaned.csv\", index=False)"
   ]
  },
  {
   "cell_type": "code",
   "execution_count": null,
   "id": "9970b2cc-4775-4d72-a9b0-781ff7c8ddb6",
   "metadata": {},
   "outputs": [],
   "source": []
  },
  {
   "cell_type": "code",
   "execution_count": null,
   "id": "a8207e46-610a-406f-b5ec-e6505e155462",
   "metadata": {},
   "outputs": [],
   "source": []
  },
  {
   "cell_type": "markdown",
   "id": "976d842f-c128-4a82-8b58-47805a1b7e94",
   "metadata": {},
   "source": [
    "# DONE"
   ]
  },
  {
   "cell_type": "markdown",
   "id": "6c89136b",
   "metadata": {},
   "source": [
    "**Aircraft.Damage**\n",
    "- identify and execute any cleaning tasks\n",
    "- construct a derived column tracking whether an aircraft was destroyed or not.\n",
    "\n",
    "## DONE"
   ]
  },
  {
   "cell_type": "code",
   "execution_count": null,
   "id": "91b518b1",
   "metadata": {},
   "outputs": [],
   "source": []
  },
  {
   "cell_type": "markdown",
   "id": "e9d8af9b",
   "metadata": {},
   "source": [
    "### Investigate the *Make* column\n",
    "- Identify cleaning tasks here\n",
    "- List cleaning tasks clearly in markdown\n",
    "- Execute the cleaning tasks\n",
    "- For your analysis, keep Makes with a reasonable number (you can put the threshold at 50 though lower could work as well)\n",
    "\n",
    "## DONE"
   ]
  },
  {
   "cell_type": "code",
   "execution_count": null,
   "id": "cf9005cf",
   "metadata": {},
   "outputs": [],
   "source": []
  },
  {
   "cell_type": "markdown",
   "id": "6ed9f3c2",
   "metadata": {},
   "source": [
    "### Inspect Model column\n",
    "- Get rid of any NaNs.\n",
    "- Inspect the column and counts for each model/make. Are model labels unique to each make?\n",
    "- If not, create a derived column that is a unique identifier for a given plane type.\n",
    "\n",
    "## DONE"
   ]
  },
  {
   "cell_type": "markdown",
   "id": "12ad63d9",
   "metadata": {},
   "source": [
    "### Column Removal\n",
    "- inspect the dataframe and drop any columns that have too many NaNs"
   ]
  },
  {
   "cell_type": "code",
   "execution_count": null,
   "id": "f661bb21",
   "metadata": {},
   "outputs": [],
   "source": []
  },
  {
   "cell_type": "code",
   "execution_count": null,
   "id": "b425a512",
   "metadata": {},
   "outputs": [],
   "source": []
  }
 ],
 "metadata": {
  "kernelspec": {
   "display_name": "Python (base)",
   "language": "python",
   "name": "base"
  },
  "language_info": {
   "codemirror_mode": {
    "name": "ipython",
    "version": 3
   },
   "file_extension": ".py",
   "mimetype": "text/x-python",
   "name": "python",
   "nbconvert_exporter": "python",
   "pygments_lexer": "ipython3",
   "version": "3.12.9"
  }
 },
 "nbformat": 4,
 "nbformat_minor": 5
}
