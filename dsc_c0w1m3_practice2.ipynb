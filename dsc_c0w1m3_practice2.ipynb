{
 "cells": [
  {
   "cell_type": "markdown",
   "metadata": {
    "id": "DseJ85l7AVtS"
   },
   "source": [
    "# Practice for Measure of Dispersion"
   ]
  },
  {
   "cell_type": "markdown",
   "metadata": {
    "id": "qFwZC1buBHei"
   },
   "source": [
    "1. Load in the relevant dataset using csv DictReader. The path has been provided."
   ]
  },
  {
   "cell_type": "code",
   "execution_count": 31,
   "metadata": {
    "id": "MnxIV17qAVtT"
   },
   "outputs": [],
   "source": [
    "import csv\n",
    "path = 'nhis.csv'\n",
    "\n",
    "with open(path, encoding='utf-8') as f:\n",
    "    reader = csv.DictReader(f)\n",
    "    data = list(reader)"
   ]
  },
  {
   "cell_type": "code",
   "execution_count": 32,
   "metadata": {},
   "outputs": [
    {
     "data": {
      "text/plain": [
       "{'HHX': '16',\n",
       " 'FMX': '1',\n",
       " 'FPX': '2',\n",
       " 'SEX': '1',\n",
       " 'BMI': '33.36',\n",
       " 'SLEEP': '8',\n",
       " 'educ': '16',\n",
       " 'height': '74',\n",
       " 'weight': '260'}"
      ]
     },
     "execution_count": 32,
     "metadata": {},
     "output_type": "execute_result"
    }
   ],
   "source": [
    "data[0]"
   ]
  },
  {
   "cell_type": "markdown",
   "metadata": {
    "id": "9BvZJwC-BWOW"
   },
   "source": [
    "2. Extract values for the the variable height and save to a Python list called `height_list`:"
   ]
  },
  {
   "cell_type": "code",
   "execution_count": 2,
   "metadata": {
    "id": "r_XVJY0TBYxS"
   },
   "outputs": [
    {
     "data": {
      "text/plain": [
       "[74, 70, 61, 68, 66]"
      ]
     },
     "execution_count": 2,
     "metadata": {},
     "output_type": "execute_result"
    }
   ],
   "source": [
    "height_list = [int(row['height']) for row in data]\n",
    "height_list[:5]"
   ]
  },
  {
   "cell_type": "code",
   "execution_count": 6,
   "metadata": {},
   "outputs": [
    {
     "data": {
      "text/plain": [
       "array([74, 70, 61, ..., 64, 64, 62])"
      ]
     },
     "execution_count": 6,
     "metadata": {},
     "output_type": "execute_result"
    }
   ],
   "source": [
    "# same data in array (np)\n",
    "import numpy as np\n",
    "\n",
    "height = np.array(height_list)\n",
    "height"
   ]
  },
  {
   "cell_type": "markdown",
   "metadata": {
    "id": "UMS3oS-RGNsF"
   },
   "source": [
    "We have plotted a histogram of the data. There are clearly outliers in the data."
   ]
  },
  {
   "cell_type": "code",
   "execution_count": 7,
   "metadata": {
    "id": "ozCa-cg0GQPf"
   },
   "outputs": [],
   "source": [
    "# Run this cell without changes\n",
    "import matplotlib.pyplot as plt\n",
    "%matplotlib inline\n",
    "# ^^This is a 'magic command' built into jupyter notebooks. We use it so that the visualization displays\n",
    "# in the notebook directly, instead of in a separate window."
   ]
  },
  {
   "cell_type": "code",
   "execution_count": 9,
   "metadata": {
    "id": "0V-QyJyLGUix"
   },
   "outputs": [
    {
     "data": {
      "image/png": "[encoded data removed]",
      "text/plain": [
       "<Figure size 640x480 with 1 Axes>"
      ]
     },
     "metadata": {},
     "output_type": "display_data"
    }
   ],
   "source": [
    "# Run this cell without changes\n",
    "# A histogram should display below\n",
    "plt.hist(height, bins=8);\n",
    "plt.show()"
   ]
  },
  {
   "cell_type": "markdown",
   "metadata": {
    "id": "PcQ_BKoeDSYc"
   },
   "source": [
    "3.  Calculate the sample mean of the heights."
   ]
  },
  {
   "cell_type": "code",
   "execution_count": 11,
   "metadata": {
    "id": "MH8SLkfMJMHF"
   },
   "outputs": [
    {
     "data": {
      "text/plain": [
       "69.57826541274817"
      ]
     },
     "execution_count": 11,
     "metadata": {},
     "output_type": "execute_result"
    }
   ],
   "source": [
    "np.mean(height)"
   ]
  },
  {
   "cell_type": "markdown",
   "metadata": {
    "id": "21t8rXLzJMzM"
   },
   "source": [
    "4. Calculate the sample variance of the heights. Make sure that you are using the corrected variance."
   ]
  },
  {
   "cell_type": "code",
   "execution_count": 12,
   "metadata": {
    "id": "lB8xbHuyJRHk"
   },
   "outputs": [
    {
     "data": {
      "text/plain": [
       "87.74476162268516"
      ]
     },
     "execution_count": 12,
     "metadata": {},
     "output_type": "execute_result"
    }
   ],
   "source": [
    "np.var(height, ddof=1)"
   ]
  },
  {
   "cell_type": "markdown",
   "metadata": {
    "id": "Mc3fj3IHJYtz"
   },
   "source": [
    "5. Calculate the sample standard deviation of heights. Make sure that you are using the corrected standard deviation."
   ]
  },
  {
   "cell_type": "code",
   "execution_count": 13,
   "metadata": {
    "id": "35gVzsB6Ja1u"
   },
   "outputs": [
    {
     "data": {
      "text/plain": [
       "9.366238527789111"
      ]
     },
     "execution_count": 13,
     "metadata": {},
     "output_type": "execute_result"
    }
   ],
   "source": [
    "np.std(height)"
   ]
  },
  {
   "cell_type": "markdown",
   "metadata": {
    "id": "HH3Pr2skJcDf"
   },
   "source": [
    "6. Calculate the IQR by calculating and subtracting relevant percentiles."
   ]
  },
  {
   "cell_type": "code",
   "execution_count": 22,
   "metadata": {
    "id": "4daj6fRiJfAo"
   },
   "outputs": [],
   "source": [
    "Q1 = np.percentile(height, 25)\n",
    "Q2 = np.percentile(height, 75)"
   ]
  },
  {
   "cell_type": "code",
   "execution_count": 24,
   "metadata": {},
   "outputs": [
    {
     "data": {
      "text/plain": [
       "7.0"
      ]
     },
     "execution_count": 24,
     "metadata": {},
     "output_type": "execute_result"
    }
   ],
   "source": [
    "Q2 - Q1"
   ]
  },
  {
   "cell_type": "markdown",
   "metadata": {
    "id": "NKrZTLBfJgsj"
   },
   "source": [
    "7. Calculate the IQR using scipy."
   ]
  },
  {
   "cell_type": "code",
   "execution_count": 20,
   "metadata": {
    "id": "z7Zb1d8wJjSG"
   },
   "outputs": [
    {
     "data": {
      "text/plain": [
       "7.0"
      ]
     },
     "execution_count": 20,
     "metadata": {},
     "output_type": "execute_result"
    }
   ],
   "source": [
    "from scipy.stats import iqr\n",
    "\n",
    "iqr(height_list)"
   ]
  },
  {
   "cell_type": "markdown",
   "metadata": {
    "id": "oiIg2jptJmvV"
   },
   "source": [
    "8. Clean all outliers from the height data. You can use the histogram of heights to help guide in your data filtering."
   ]
  },
  {
   "cell_type": "code",
   "execution_count": 26,
   "metadata": {
    "id": "dNT_7S0HJqXG"
   },
   "outputs": [
    {
     "data": {
      "text/plain": [
       "4347"
      ]
     },
     "execution_count": 26,
     "metadata": {},
     "output_type": "execute_result"
    }
   ],
   "source": [
    "# outliers above 80\n",
    "\n",
    "height_no_outliers = []\n",
    "\n",
    "for i in height_list:\n",
    "    if i <= 80:\n",
    "        height_no_outliers.append(i)\n",
    "\n",
    "len(height_no_outliers)"
   ]
  },
  {
   "cell_type": "code",
   "execution_count": 27,
   "metadata": {},
   "outputs": [
    {
     "data": {
      "text/plain": [
       "4785"
      ]
     },
     "execution_count": 27,
     "metadata": {},
     "output_type": "execute_result"
    }
   ],
   "source": [
    "len(height_list)"
   ]
  },
  {
   "cell_type": "markdown",
   "metadata": {
    "id": "yPICwQKWJpar"
   },
   "source": [
    "9. Compute the sample standard deviation on the cleaned data:"
   ]
  },
  {
   "cell_type": "code",
   "execution_count": 28,
   "metadata": {
    "id": "ebXPNKJqJwKu"
   },
   "outputs": [
    {
     "data": {
      "text/plain": [
       "3.909935680338874"
      ]
     },
     "execution_count": 28,
     "metadata": {},
     "output_type": "execute_result"
    }
   ],
   "source": [
    "np.std(height_no_outliers)"
   ]
  },
  {
   "cell_type": "markdown",
   "metadata": {
    "id": "aNUhEqwhJxSy"
   },
   "source": [
    "10.  Compute the new IQR on the cleaned data:"
   ]
  },
  {
   "cell_type": "code",
   "execution_count": 29,
   "metadata": {
    "id": "AfyW3uSlJz0h"
   },
   "outputs": [
    {
     "data": {
      "text/plain": [
       "6.0"
      ]
     },
     "execution_count": 29,
     "metadata": {},
     "output_type": "execute_result"
    }
   ],
   "source": [
    "iqr(height_no_outliers)"
   ]
  },
  {
   "cell_type": "markdown",
   "metadata": {
    "id": "4-CEN3waJ1IB"
   },
   "source": [
    "11.  Comment on how the standard deviation and IQR has changed between  the original and cleaned heights."
   ]
  },
  {
   "cell_type": "markdown",
   "metadata": {
    "id": "U9Pd40aXJ4Xr"
   },
   "source": [
    "Standard Deviation went to half after eliminating outliers, but the IQR stayed about the same.\n",
    "\n",
    "The standard deviation has reduced substantially—to a value that now reflects a deviation from the mean about which the bulk of the main height distribution lies. The IQR has reduced somewhat but is basically stable. The IQR now is commensurate with the characteristic range $ [ \\bar{x} - s, \\bar{x} + s]$ given by the sample standard deviation and mean."
   ]
  },
  {
   "cell_type": "code",
   "execution_count": null,
   "metadata": {},
   "outputs": [],
   "source": []
  }
 ],
 "metadata": {
  "colab": {
   "provenance": []
  },
  "kernelspec": {
   "display_name": "Python (base)",
   "language": "python",
   "name": "base"
  },
  "language_info": {
   "codemirror_mode": {
    "name": "ipython",
    "version": 3
   },
   "file_extension": ".py",
   "mimetype": "text/x-python",
   "name": "python",
   "nbconvert_exporter": "python",
   "pygments_lexer": "ipython3",
   "version": "3.12.9"
  },
  "toc": {
   "base_numbering": 1,
   "nav_menu": {},
   "number_sections": true,
   "sideBar": true,
   "skip_h1_title": false,
   "title_cell": "Table of Contents",
   "title_sidebar": "Contents",
   "toc_cell": false,
   "toc_position": {},
   "toc_section_display": true,
   "toc_window_display": false
  }
 },
 "nbformat": 4,
 "nbformat_minor": 4
}
